{
  "cells": [
    {
      "cell_type": "markdown",
      "metadata": {
        "id": "view-in-github",
        "colab_type": "text"
      },
      "source": [
        "<a href=\"https://colab.research.google.com/github/CarloLaguda/Python_Utile/blob/main/Collezioni_Dati.ipynb\" target=\"_parent\"><img src=\"https://colab.research.google.com/assets/colab-badge.svg\" alt=\"Open In Colab\"/></a>"
      ]
    },
    {
      "cell_type": "markdown",
      "id": "693fb2c9",
      "metadata": {
        "id": "693fb2c9"
      },
      "source": [
        "# Notebook Python: Esercizi su Liste, Tuple, Set e Dictionary"
      ]
    },
    {
      "cell_type": "markdown",
      "id": "a775e874",
      "metadata": {
        "id": "a775e874"
      },
      "source": [
        "### Esercizio 1\n",
        "Chiedi all'utente di inserire 5 numeri. Carica i numeri in una lista, poi converti la lista in una tuple e stampa la tuple risultante."
      ]
    },
    {
      "cell_type": "code",
      "execution_count": null,
      "id": "04731044",
      "metadata": {
        "id": "04731044",
        "outputId": "19b79bc3-8d79-48d4-ca08-6380e7761395",
        "colab": {
          "base_uri": "https://localhost:8080/"
        }
      },
      "outputs": [
        {
          "output_type": "stream",
          "name": "stdout",
          "text": [
            "Inserisci un numero: 1\n",
            "Inserisci un numero: 2\n",
            "Inserisci un numero: 3\n",
            "Inserisci un numero: 4\n",
            "Inserisci un numero: 5\n",
            "(1, 2, 3, 4, 5)\n"
          ]
        }
      ],
      "source": [
        "lista = []\n",
        "for _ in range(5):\n",
        "  x = int(input(\"Inserisci un numero: \"))\n",
        "  lista.append(x)\n",
        "tupla = tuple(lista)\n",
        "print(tupla)"
      ]
    },
    {
      "cell_type": "markdown",
      "id": "2915c102",
      "metadata": {
        "id": "2915c102"
      },
      "source": [
        "### Esercizio 2\n",
        "Chiedi all'utente di inserire 3 nomi. Carica i nomi in una lista, poi converti la lista in una tuple. Verifica se un nome fornito dall'utente è presente nella tuple e stampa il risultato."
      ]
    },
    {
      "cell_type": "code",
      "execution_count": null,
      "id": "b906b45b",
      "metadata": {
        "id": "b906b45b",
        "outputId": "5bb85f6d-d635-4135-8ab7-81f46b806016",
        "colab": {
          "base_uri": "https://localhost:8080/"
        }
      },
      "outputs": [
        {
          "output_type": "stream",
          "name": "stdout",
          "text": [
            "INserisci un nome: carlo\n",
            "INserisci un nome: gianni luca\n",
            "INserisci un nome: mario\n",
            "Inserisci un nome da cercare: mario\n",
            "Il nome mario è presente nella lista\n"
          ]
        }
      ],
      "source": [
        "lista = []\n",
        "tupla = ()\n",
        "for _ in range(3):\n",
        "  nome = input(\"Inserisci un nome: \")\n",
        "  lista.append(nome)\n",
        "tupla = tuple(lista)\n",
        "nome_cercato = input(\"Inserisci un nome da cercare: \")\n",
        "for i in tupla:\n",
        "  if i == nome_cercato:\n",
        "    print(\"Il nome\",  nome_cercato, \"è presente nella tupla\")"
      ]
    },
    {
      "cell_type": "markdown",
      "id": "41cb760a",
      "metadata": {
        "id": "41cb760a"
      },
      "source": [
        "### Esercizio 3\n",
        "Chiedi all'utente di inserire 6 parole. Carica le parole in una lista e poi converti la lista in una tuple. Chiedi all'utente di inserire una parola da cercare nella tuple e stampa l'indice se la parola è presente."
      ]
    },
    {
      "cell_type": "code",
      "execution_count": null,
      "id": "a7affd6d",
      "metadata": {
        "id": "a7affd6d",
        "outputId": "b4167799-f3a1-4f89-8b40-c4de2909e90f",
        "colab": {
          "base_uri": "https://localhost:8080/"
        }
      },
      "outputs": [
        {
          "output_type": "stream",
          "name": "stdout",
          "text": [
            "Inserisci una parola: a\n",
            "Inserisci una parola: b\n",
            "Inserisci una parola: c\n",
            "Inserisci una parola: d\n",
            "Inserisci una parola: e\n",
            "Inserisci una parola: f\n",
            "Inserisci una parolaù da cercare: f\n",
            "Il nome f è presente nella tupla all'indice: 5\n"
          ]
        }
      ],
      "source": [
        "lista = []\n",
        "tupla = ()\n",
        "for _ in range(6):\n",
        "  nome = input(\"Inserisci una parola: \")\n",
        "  lista.append(nome)\n",
        "tupla = tuple(lista)\n",
        "parola_cercato = input(\"Inserisci una parolaù da cercare: \")\n",
        "for i in range(len(tupla)):\n",
        "  if tupla[i] == parola_cercato:\n",
        "    print(\"Il nome\",  parola_cercato, \"è presente nella tupla all'indice:\", i)"
      ]
    },
    {
      "cell_type": "markdown",
      "id": "c7b8c667",
      "metadata": {
        "id": "c7b8c667"
      },
      "source": [
        "### Esercizio 4\n",
        "Chiedi all'utente di inserire numeri fino a quando non digita 'stop'. Carica i numeri in una lista, poi converti la lista in una tuple e stampa la lunghezza della tuple."
      ]
    },
    {
      "cell_type": "code",
      "execution_count": null,
      "id": "65d2422d",
      "metadata": {
        "id": "65d2422d",
        "outputId": "7b3b2b30-6e49-4a69-a295-89908193abdd",
        "colab": {
          "base_uri": "https://localhost:8080/"
        }
      },
      "outputs": [
        {
          "output_type": "stream",
          "name": "stdout",
          "text": [
            "Inserisci un numero (digita 'stop' per terminare): 1\n",
            "Inserisci un numero (digita 'stop' per terminare): 5\n",
            "Inserisci un numero (digita 'stop' per terminare): 7\n",
            "Inserisci un numero (digita 'stop' per terminare): 9\n",
            "Inserisci un numero (digita 'stop' per terminare): 23\n",
            "Inserisci un numero (digita 'stop' per terminare): stop\n",
            "5\n"
          ]
        }
      ],
      "source": [
        "lista = []\n",
        "tupla = ()\n",
        "while True:\n",
        "  numero = 0\n",
        "  numero = input(\"Inserisci un numero (digita 'stop' per terminare): \")\n",
        "\n",
        "  if numero != \"stop\":\n",
        "    lista.append(int(numero))\n",
        "  else:\n",
        "    break\n",
        "\n",
        "tupla = tuple(lista)\n",
        "print(len(tupla))"
      ]
    },
    {
      "cell_type": "markdown",
      "id": "8420e3b2",
      "metadata": {
        "id": "8420e3b2"
      },
      "source": [
        "### Esercizio 6\n",
        "Chiedi all'utente di inserire numeri fino a quando non digita 'stop'. Carica i numeri in una lista, poi converti la lista in una tuple e stampa il valore massimo."
      ]
    },
    {
      "cell_type": "code",
      "execution_count": null,
      "id": "82ea0d84",
      "metadata": {
        "id": "82ea0d84",
        "outputId": "aec02f12-1f72-4e7d-c2fb-2fef9338724e",
        "colab": {
          "base_uri": "https://localhost:8080/"
        }
      },
      "outputs": [
        {
          "output_type": "stream",
          "name": "stdout",
          "text": [
            "Inserisci un numero (digita 'stop' per terminare): 23\n",
            "Inserisci un numero (digita 'stop' per terminare): 1\n",
            "Inserisci un numero (digita 'stop' per terminare): 2\n",
            "Inserisci un numero (digita 'stop' per terminare): 45\n",
            "Inserisci un numero (digita 'stop' per terminare): 5\n",
            "Inserisci un numero (digita 'stop' per terminare): stop\n",
            "45\n"
          ]
        }
      ],
      "source": [
        "lista = []\n",
        "tupla = ()\n",
        "while True:\n",
        "  numero = 0\n",
        "  numero = input(\"Inserisci un numero (digita 'stop' per terminare): \")\n",
        "\n",
        "  if numero != \"stop\":\n",
        "    lista.append(int(numero))\n",
        "  else:\n",
        "    break\n",
        "\n",
        "tupla = tuple(lista)\n",
        "numero_max = tupla[0]\n",
        "\n",
        "for i in tupla:\n",
        "  if i > numero_max:\n",
        "    numero_max = i\n",
        "print(numero_max)"
      ]
    },
    {
      "cell_type": "markdown",
      "id": "5937b26f",
      "metadata": {
        "id": "5937b26f"
      },
      "source": [
        "### Esercizio 7\n",
        "Crea due set contenenti numeri a tua scelta e trova l'unione dei due set utilizzando il metodo union(). Stampa l'unione risultante."
      ]
    },
    {
      "cell_type": "code",
      "execution_count": null,
      "id": "cd4ffc40",
      "metadata": {
        "id": "cd4ffc40",
        "outputId": "464400ab-7e35-42c6-c612-e1193cd74418",
        "colab": {
          "base_uri": "https://localhost:8080/"
        }
      },
      "outputs": [
        {
          "output_type": "stream",
          "name": "stdout",
          "text": [
            "{1, 2, 4, 5, 7, 8, 9, 11}\n"
          ]
        }
      ],
      "source": [
        "set1 = {1, 2, 4, 5, 8}\n",
        "set2 = {1, 8, 7, 9, 11}\n",
        "set1.update(set2)\n",
        "print(set1)"
      ]
    },
    {
      "cell_type": "markdown",
      "id": "4bcfd7d7",
      "metadata": {
        "id": "4bcfd7d7"
      },
      "source": [
        "### Esercizio 8\n",
        "Chiedi all'utente di inserire due set di numeri. Trova l'intersezione tra i due set utilizzando il metodo intersection() e stampa il risultato."
      ]
    },
    {
      "cell_type": "code",
      "execution_count": null,
      "id": "96d1a5f4",
      "metadata": {
        "id": "96d1a5f4",
        "outputId": "33098c09-ddbb-45f3-8786-e930ea48ae8c",
        "colab": {
          "base_uri": "https://localhost:8080/"
        }
      },
      "outputs": [
        {
          "output_type": "stream",
          "name": "stdout",
          "text": [
            "Inserisci un elemento nel set1 (digita 'stop' per terminare): 1\n",
            "Inserisci un elemento nel set1 (digita 'stop' per terminare): 2\n",
            "Inserisci un elemento nel set1 (digita 'stop' per terminare): 4\n",
            "Inserisci un elemento nel set1 (digita 'stop' per terminare): 5\n",
            "Inserisci un elemento nel set1 (digita 'stop' per terminare): stop\n",
            "Inserisci un elemento nel set1 (digita 'stop' per terminare): 1\n",
            "Inserisci un elemento nel set1 (digita 'stop' per terminare): 2\n",
            "Inserisci un elemento nel set1 (digita 'stop' per terminare): 3\n",
            "Inserisci un elemento nel set1 (digita 'stop' per terminare): 4\n",
            "Inserisci un elemento nel set1 (digita 'stop' per terminare): 5\n",
            "Inserisci un elemento nel set1 (digita 'stop' per terminare): stop\n",
            "{1, 2, 4, 5}\n"
          ]
        }
      ],
      "source": [
        "lista1 = []\n",
        "lista2 = []\n",
        "set1 = {}\n",
        "set2 = {}\n",
        "set3 = {}\n",
        "elemento = 0\n",
        "while True:\n",
        "  elemento = input(\"Inserisci un elemento nel set1 (digita 'stop' per terminare): \")\n",
        "  if elemento != \"stop\":\n",
        "    lista1.append(int(elemento))\n",
        "  else:\n",
        "    break\n",
        "\n",
        "while True:\n",
        "  elemento = input(\"Inserisci un elemento nel set1 (digita 'stop' per terminare): \")\n",
        "\n",
        "  if elemento != \"stop\":\n",
        "    lista2.append(int(elemento))\n",
        "  else:\n",
        "    break\n",
        "\n",
        "set1 = set(lista1)\n",
        "set2 = set(lista2)\n",
        "set3 = set1.intersection(set2)\n",
        "print(set3)"
      ]
    },
    {
      "cell_type": "markdown",
      "id": "65dafdd3",
      "metadata": {
        "id": "65dafdd3"
      },
      "source": [
        "### Esercizio 9\n",
        "Crea due set di parole a tua scelta e trova la differenza simmetrica tra i due set utilizzando il metodo symmetric_difference(). Stampa il risultato."
      ]
    },
    {
      "cell_type": "code",
      "execution_count": null,
      "id": "843dc5f4",
      "metadata": {
        "id": "843dc5f4",
        "outputId": "e65ff6f9-e4dc-403d-c6be-2c2004f4834a",
        "colab": {
          "base_uri": "https://localhost:8080/"
        }
      },
      "outputs": [
        {
          "output_type": "stream",
          "name": "stdout",
          "text": [
            "{'Come', 'Alonso', 'Aborigeno', 'Stai', 'Ferrari', 'Alfonso'}\n"
          ]
        }
      ],
      "source": [
        "set1 = {\"Ciao\", \"Come\", \"Stai\", \"Alfonso\", \"Calotta\"}\n",
        "set2 = {\"Ciao\", \"Alonso\", \"Ferrari\", \"Aborigeno\", \"Calotta\"}\n",
        "\n",
        "set1.symmetric_difference_update(set2)\n",
        "print(set1)"
      ]
    },
    {
      "cell_type": "markdown",
      "id": "840e6a05",
      "metadata": {
        "id": "840e6a05"
      },
      "source": [
        "### Esercizio 10\n",
        "Chiedi all'utente di inserire due set di numeri. Trova l'unione tra i due set utilizzando il metodo union() e stampa il risultato."
      ]
    },
    {
      "cell_type": "code",
      "execution_count": null,
      "id": "1a29311b",
      "metadata": {
        "id": "1a29311b",
        "outputId": "5743334a-b478-4526-ff49-968091fbb179",
        "colab": {
          "base_uri": "https://localhost:8080/"
        }
      },
      "outputs": [
        {
          "output_type": "stream",
          "name": "stdout",
          "text": [
            "Inserisci quanti numeri vuoi inserire nei set: 4\n",
            "Inserisci un numero nel set1: 1\n",
            "Inserisci un numero nel set1: 2\n",
            "Inserisci un numero nel set1: 3\n",
            "Inserisci un numero nel set1: 4\n",
            "Inserisci un numero nel set2: 2\n",
            "Inserisci un numero nel set2: 3\n",
            "Inserisci un numero nel set2: 4\n",
            "Inserisci un numero nel set2: 5\n",
            "{1, 2, 3, 4}\n"
          ]
        }
      ],
      "source": [
        "n = int(input(\"Inserisci quanti numeri vuoi inserire nei set: \"))\n",
        "lista1 = []\n",
        "lista2 = []\n",
        "for i in range(n):\n",
        "  x = int(input((\"Inserisci un numero nel set1: \")))\n",
        "  lista1.append(x)\n",
        "set1 = set(lista1)\n",
        "for i in range(n):\n",
        "  x = int(input((\"Inserisci un numero nel set2: \")))\n",
        "  lista2.append(x)\n",
        "set2 = set(lista2)\n",
        "\n",
        "set1.update(set1)\n",
        "print(set1)"
      ]
    },
    {
      "cell_type": "markdown",
      "id": "b8bfc8ea",
      "metadata": {
        "id": "b8bfc8ea"
      },
      "source": [
        "### Esercizio 11\n",
        "Crea un dictionary che rappresenti una rubrica con 3 contatti. Chiedi all'utente di inserire il nome di un contatto e stampa il numero di telefono se il contatto è presente."
      ]
    },
    {
      "cell_type": "code",
      "execution_count": null,
      "id": "8c3b15ba",
      "metadata": {
        "id": "8c3b15ba",
        "outputId": "d9e02de8-3964-4cf7-95d2-270cc88918bf",
        "colab": {
          "base_uri": "https://localhost:8080/"
        }
      },
      "outputs": [
        {
          "output_type": "stream",
          "name": "stdout",
          "text": [
            "Inserisci il nome della chiave: agag\n",
            "Inserici il numero: 123\n",
            "Inserisci il nome della chiave: gigi\n",
            "Inserici il numero: 12345\n",
            "Inserisci il nome della chiave: ramo\n",
            "Inserici il numero: 12\n",
            "Inserisci nome da cercare: ramo\n",
            "Il numero di ramo è 12\n"
          ]
        }
      ],
      "source": [
        "rubrica_telefonica = {}\n",
        "\n",
        "for i in range(3):\n",
        "  chiave = input(\"Inserisci il nome della chiave: \")\n",
        "  rubrica_telefonica[chiave] = int(input(\"Inserici il numero: \"))\n",
        "\n",
        "nome_contatto_richiesto = input(\"Inserisci nome da cercare: \")\n",
        "\n",
        "if nome_contatto_richiesto in rubrica_telefonica.keys():\n",
        "  print(\"Il numero di\", nome_contatto_richiesto, \"è\", rubrica_telefonica[nome_contatto_richiesto])\n",
        "else:\n",
        "  print(\"Contatto non trovato\")\n"
      ]
    },
    {
      "cell_type": "markdown",
      "id": "da0e5b93",
      "metadata": {
        "id": "da0e5b93"
      },
      "source": [
        "### Esercizio 12\n",
        "Chiedi all'utente di inserire 3 chiavi e 3 valori. Crea un dictionary utilizzando queste chiavi e valori e poi stampa il dictionary risultante."
      ]
    },
    {
      "cell_type": "code",
      "execution_count": null,
      "id": "d7b7034e",
      "metadata": {
        "id": "d7b7034e",
        "outputId": "23dfdb96-390a-44ac-d0c8-a7281f10b52b",
        "colab": {
          "base_uri": "https://localhost:8080/"
        }
      },
      "outputs": [
        {
          "output_type": "stream",
          "name": "stdout",
          "text": [
            "Inserisci il nome della chiave: ahaha\n",
            "Inserici il valore: 12\n",
            "Inserisci il nome della chiave: ytty\n",
            "Inserici il valore: 45\n",
            "Inserisci il nome della chiave: vert\n",
            "Inserici il valore: 67\n",
            "{'ahaha': '12', 'ytty': '45', 'vert': '67'}\n"
          ]
        }
      ],
      "source": [
        "dictt = {}\n",
        "\n",
        "for i in range(3):\n",
        "  chiave = input(\"Inserisci il nome della chiave: \")\n",
        "  dictt[chiave] = input(\"Inserici il valore: \")\n",
        "print(dictt)\n"
      ]
    },
    {
      "cell_type": "markdown",
      "id": "294b6526",
      "metadata": {
        "id": "294b6526"
      },
      "source": [
        "### Esercizio 13\n",
        "Crea un dictionary con nomi di paesi come chiavi e le loro capitali come valori. Chiedi all'utente di inserire il nome di un paese e stampa la capitale se il paese è presente nel dictionary."
      ]
    },
    {
      "cell_type": "code",
      "execution_count": null,
      "id": "066f2f3e",
      "metadata": {
        "id": "066f2f3e",
        "outputId": "e6d2c8a6-1da8-4c44-d9b4-1f47707db2cf",
        "colab": {
          "base_uri": "https://localhost:8080/"
        }
      },
      "outputs": [
        {
          "output_type": "stream",
          "name": "stdout",
          "text": [
            "Inserisci il nome del paese: Italia\n",
            "Inserici la capitale: Roma\n",
            "Inserisci il nome del paese: Francia\n",
            "Inserici la capitale: Parigi\n",
            "Inserisci il nome del paese: Germania\n",
            "Inserici la capitale: Berlino\n",
            "Inserisci nome dello stao da cercare: Germania\n",
            "La capitale di Germania è Berlino\n"
          ]
        }
      ],
      "source": [
        "citta = {}\n",
        "\n",
        "for i in range(3):\n",
        "  stato = input(\"Inserisci il nome del paese: \")\n",
        "  citta[stato] = input(\"Inserici la capitale: \")\n",
        "\n",
        "nome_stato_richiesto = input(\"Inserisci nome dello stao da cercare: \")\n",
        "\n",
        "if nome_stato_richiesto in citta.keys():\n",
        "  print(\"La capitale di\", nome_stato_richiesto, \"è\", citta[stato])\n",
        "else:\n",
        "  print(\"Stato non trovato\")"
      ]
    },
    {
      "cell_type": "markdown",
      "id": "92eb4492",
      "metadata": {
        "id": "92eb4492"
      },
      "source": [
        "### Esercizio 14\n",
        "Crea un dictionary che rappresenti uno studente con nome, età e classe. Chiedi all'utente di inserire il voto medio dello studente e aggiungi questa informazione al dictionary. Stampa il dictionary aggiornato."
      ]
    },
    {
      "cell_type": "code",
      "execution_count": 3,
      "id": "9ad6ef36",
      "metadata": {
        "id": "9ad6ef36",
        "outputId": "74d4b91c-5b77-4379-b1f9-ce312e0f3e99",
        "colab": {
          "base_uri": "https://localhost:8080/"
        }
      },
      "outputs": [
        {
          "output_type": "stream",
          "name": "stdout",
          "text": [
            "Inserisci il voto medio dello studente: 8.43\n",
            "Studente aggiornato: {'Nome': 'Franco', 'Cognome': 'Il criminale', 'età': '47', 'voto_medio': 8.43}\n"
          ]
        }
      ],
      "source": [
        "studente = {\n",
        "    \"Nome\": \"Franco\",\n",
        "    \"Cognome\": \"Il criminale\",\n",
        "    \"età\": \"47\",\n",
        "    \"voto_medio\": 0\n",
        "}\n",
        "\n",
        "voto_medio = float(input(\"Inserisci il voto medio dello studente: \"))\n",
        "studente[\"voto_medio\"] = voto_medio\n",
        "\n",
        "print(\"Studente aggiornato:\", studente)"
      ]
    },
    {
      "cell_type": "markdown",
      "id": "7a804ec1",
      "metadata": {
        "id": "7a804ec1"
      },
      "source": [
        "### Esercizio 15\n",
        "Crea un dictionary che rappresenta un inventario di prodotti con il nome del prodotto come chiave e la quantità come valore. Chiedi all'utente di inserire un prodotto e una quantità per aggiungere o aggiornare l'inventario. Stampa l'inventario aggiornato."
      ]
    },
    {
      "cell_type": "code",
      "execution_count": 4,
      "id": "376664a8",
      "metadata": {
        "id": "376664a8",
        "outputId": "e1a9a6d5-0a13-4b7c-ffc0-310a344c5fc2",
        "colab": {
          "base_uri": "https://localhost:8080/"
        }
      },
      "outputs": [
        {
          "output_type": "stream",
          "name": "stdout",
          "text": [
            "Inserisci il nome del prodotto da aggiungere o aggiornare: We Were Here\n",
            "Inserisci le copie del nuovo prodotto: 20\n",
            "Inventario aggiornato:  {'Split Fiction': 20, 'A Way Out': 100, 'It Takes Two': 90, 'We Were Here': 20}\n"
          ]
        }
      ],
      "source": [
        "inventario = {\n",
        "    \"Split Fiction\": 20,\n",
        "    \"A Way Out\": 100,\n",
        "    \"It Takes Two\": 90,\n",
        "}\n",
        "\n",
        "chiave = input(\"Inserisci il nome del prodotto da aggiungere o aggiornare: \")\n",
        "inventario[chiave] = int(input(\"Inserisci le copie del nuovo prodotto: \"))\n",
        "print(\"Inventario aggiornato: \", inventario)"
      ]
    },
    {
      "cell_type": "code",
      "execution_count": null,
      "id": "ad4937aa-e08d-43ab-af48-c4378e553ff2",
      "metadata": {
        "id": "ad4937aa-e08d-43ab-af48-c4378e553ff2"
      },
      "outputs": [],
      "source": []
    }
  ],
  "metadata": {
    "kernelspec": {
      "display_name": "Python 3 (ipykernel)",
      "language": "python",
      "name": "python3"
    },
    "language_info": {
      "codemirror_mode": {
        "name": "ipython",
        "version": 3
      },
      "file_extension": ".py",
      "mimetype": "text/x-python",
      "name": "python",
      "nbconvert_exporter": "python",
      "pygments_lexer": "ipython3",
      "version": "3.11.0"
    },
    "colab": {
      "provenance": [],
      "include_colab_link": true
    }
  },
  "nbformat": 4,
  "nbformat_minor": 5
}