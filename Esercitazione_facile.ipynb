{
  "cells": [
    {
      "cell_type": "markdown",
      "metadata": {
        "id": "t86wSpzE7wbQ"
      },
      "source": [
        "Usa un ciclo for per stampare tutti i numeri da 1 a 10"
      ]
    },
    {
      "cell_type": "code",
      "execution_count": null,
      "metadata": {
        "id": "JePHpPPZ7zcd"
      },
      "outputs": [],
      "source": [
        "for i in range (10):\n",
        "    print (i+1)"
      ]
    },
    {
      "cell_type": "markdown",
      "metadata": {
        "id": "0nLgydng8vSW"
      },
      "source": [
        "Usa un ciclo for per sommare i numeri da 1 a 5 e stampa il risultato"
      ]
    },
    {
      "cell_type": "code",
      "execution_count": null,
      "metadata": {
        "id": "mR_2sYFe80Wg"
      },
      "outputs": [],
      "source": [
        "somma = 0\n",
        "for i in range (1, 6):\n",
        "    somma +=i\n",
        "print(somma)"
      ]
    },
    {
      "cell_type": "markdown",
      "metadata": {
        "id": "MLlFjhX180ub"
      },
      "source": [
        " Crea una lista di numeri e moltiplica ogni elemento per 2 e stampa il risultato"
      ]
    },
    {
      "cell_type": "code",
      "execution_count": null,
      "metadata": {
        "id": "I4xUGLJu87AQ"
      },
      "outputs": [],
      "source": [
        "lista = [2, 4, 6, 8, 10]\n",
        "for i in range(len(lista)):\n",
        "    lista[i] = lista[i]*2\n",
        "print(lista)\n"
      ]
    },
    {
      "cell_type": "markdown",
      "metadata": {
        "id": "TjlQrj_y87WC"
      },
      "source": [
        "Crea e somma solo i numeri pari da una lista di numeri"
      ]
    },
    {
      "cell_type": "code",
      "execution_count": null,
      "metadata": {
        "id": "tsoVDDJL9AmY"
      },
      "outputs": [],
      "source": [
        "lista = [3, 7, 6, 8, 20, 15]\n",
        "somma_pari = 0\n",
        "for i in range(len(lista)):\n",
        "    numero = lista[i]\n",
        "    if numero % 2 == 0:\n",
        "        somma_pari += numero\n",
        "print(somma_pari)\n"
      ]
    },
    {
      "cell_type": "markdown",
      "metadata": {
        "id": "qShxhp2-9BNd"
      },
      "source": [
        "Conta quanti numeri positivi ci sono nella lista:\n",
        "lista_numeri = [-1, 5, -3, 7, -2, 10, -4]"
      ]
    },
    {
      "cell_type": "code",
      "execution_count": null,
      "metadata": {
        "id": "zIOi07s_9IRX"
      },
      "outputs": [],
      "source": [
        "lista = [-1, 5, -3, 7, -2, 10, -4]\n",
        "numeri_positivi = 0\n",
        "for i in range(len(lista)):\n",
        "    numero = lista[i]\n",
        "    if numero > 0:\n",
        "        numeri_positivi += 1\n",
        "print(numeri_positivi)\n"
      ]
    },
    {
      "cell_type": "markdown",
      "metadata": {
        "id": "Cfaopf6Y9TEU"
      },
      "source": [
        "Chiedi all'utente di inserire un numero e continua fino a quando l'utente non inserisce 0\n"
      ]
    },
    {
      "cell_type": "code",
      "execution_count": null,
      "metadata": {
        "id": "oERoEe3w9Uc5"
      },
      "outputs": [],
      "source": [
        "while True:\n",
        "    numero = int(input(\"Inserisci qui i numeri interi, se inserisci 0 il ciclo termina: \"))\n",
        "    if numero == 0:\n",
        "          break"
      ]
    },
    {
      "cell_type": "markdown",
      "metadata": {
        "id": "rZ7yiPWk9i_N"
      },
      "source": [
        "Calcola e stampa la somma di tutti gli elementi della lista lista = [2, 4, 6, 8, 10]"
      ]
    },
    {
      "cell_type": "code",
      "execution_count": null,
      "metadata": {
        "id": "TefMFSy99juP"
      },
      "outputs": [],
      "source": [
        "lista = [2, 4, 6, 8, 10]\n",
        "somma = 0\n",
        "for i in range (len(lista)):\n",
        "    somma += lista[i]\n",
        "print(somma)\n"
      ]
    },
    {
      "cell_type": "markdown",
      "metadata": {
        "id": "Dc4TX2_89qju"
      },
      "source": [
        "Trova e stampa il numero più grande in una lista numeri = [3, 5, 7, 22, 8, 10]"
      ]
    },
    {
      "cell_type": "code",
      "execution_count": null,
      "metadata": {
        "id": "vp37aqAn99rK"
      },
      "outputs": [],
      "source": [
        "lista =  [3, 5, 7, 22, 8, 10]\n",
        "print(max(lista))"
      ]
    },
    {
      "cell_type": "markdown",
      "metadata": {
        "id": "CdlIX-oi996A"
      },
      "source": [
        "Usa una lista di numeri, trova quelli pari e stampali.\n",
        "numeri = [1, 2, 3, 4, 5, 6, 7, 8, 9, 10]"
      ]
    },
    {
      "cell_type": "code",
      "execution_count": null,
      "metadata": {
        "id": "uMnoZ_OJ-GXf"
      },
      "outputs": [],
      "source": [
        "lista =  [1, 2, 3, 4, 5, 6, 7, 8, 9, 10]\n",
        "somma_pari = 0\n",
        "for i in range(len(lista)):\n",
        "    if lista[i] %2 ==0:\n",
        "        somma_pari += lista[i]\n",
        "print(somma_pari)\n"
      ]
    },
    {
      "cell_type": "markdown",
      "metadata": {
        "id": "JRdunFRP-GpB"
      },
      "source": [
        "Usa una lista di numeri e somma i pari e i dispari separatamente. Stampa il risultato finale per ciascuna somma. numeri = [5, -3, 8, -1, 12, -7, 10]"
      ]
    },
    {
      "cell_type": "code",
      "execution_count": null,
      "metadata": {
        "id": "xWHQMF3m-RsF"
      },
      "outputs": [],
      "source": [
        "lista = [5, -3, 8, -1, 12, -7, 10]\n",
        "somma_pari = 0\n",
        "somma_dispari = 0\n",
        "for i in range(len(lista)):\n",
        "    if lista[i] %2 ==0:\n",
        "        somma_pari += lista[i]\n",
        "    else:\n",
        "        somma_dispari += lista[i]\n",
        "print(\"La somma dei numeri pari:\", somma_pari)\n",
        "print(\"La somma dei numeri dispari:\", somma_dispari)"
      ]
    },
    {
      "cell_type": "markdown",
      "metadata": {
        "id": "GJB4pVSP-OVG"
      },
      "source": [
        "Usa un ciclo for e if/else per trovare e stampare il valore massimo e minimo in una lista di numeri."
      ]
    },
    {
      "cell_type": "code",
      "execution_count": null,
      "metadata": {
        "id": "EKHvfNS6-eI_",
        "scrolled": true
      },
      "outputs": [],
      "source": [
        "lista = [3, 7, 6, 8, 20, 15]\n",
        "valore_max = 0\n",
        "valore_min = lista[0]\n",
        "for i in lista:\n",
        "    if i > valore_max:\n",
        "        valore_max = i\n",
        "for i in lista:\n",
        "    if valore_min < i:\n",
        "        valore_max = i\n",
        "print(\"valore massimo:\", valore_max)\n",
        "print(\"valore minimo:\", valore_min)"
      ]
    },
    {
      "cell_type": "markdown",
      "metadata": {
        "id": "liqiW1h3-eiW"
      },
      "source": [
        "Dato un elenco di parole, conta quante volte appare una parola specifica e stampa il risultato. parole = [\"cane\", \"gatto\", \"cane\", \"uccello\", \"gatto\", \"cane\"]\n",
        "parola_da_trovare = \"cane\""
      ]
    },
    {
      "cell_type": "code",
      "execution_count": null,
      "metadata": {
        "id": "A0g59BXh-omk"
      },
      "outputs": [],
      "source": [
        "parole = [\"cane\", \"gatto\", \"cane\", \"uccello\", \"gatto\", \"cane\"]\n",
        "quanti_cani = 0\n",
        "for i in range(len(parole)):\n",
        "    if parole[i] == \"cane\":\n",
        "        quanti_cani += 1\n",
        "print(quanti_cani)"
      ]
    },
    {
      "cell_type": "markdown",
      "metadata": {
        "id": "68V34tTT-tb8"
      },
      "source": [
        "Chiedi numeri all'utente finché la somma non supera 50"
      ]
    },
    {
      "cell_type": "code",
      "execution_count": null,
      "metadata": {
        "id": "hcXIfS0N-4B2"
      },
      "outputs": [],
      "source": [
        "somma = 0\n",
        "while not somma >=50:\n",
        "    numero_utente = int(input(\"inserisci un numero fino a quando la sua somma non farà 50: \"))\n",
        "    somma += numero_utente\n",
        "    print(somma)"
      ]
    },
    {
      "cell_type": "markdown",
      "metadata": {
        "id": "1RSiGHh4_ezE"
      },
      "source": [
        "Crea una nuova lista senza duplicati e ordina i numeri rimanenti in ordine decrescente.\n",
        "numeri = [5, 8, 5, 3, 9, 1, 3, 8, 7]"
      ]
    },
    {
      "cell_type": "code",
      "execution_count": null,
      "metadata": {
        "id": "tV8uuo9t_f_i",
        "colab": {
          "base_uri": "https://localhost:8080/"
        },
        "outputId": "eea6be88-aa81-474c-caf6-6dd89271e9fb"
      },
      "outputs": [
        {
          "output_type": "stream",
          "name": "stdout",
          "text": [
            "[5, 8, 3, 9, 1, 7]\n"
          ]
        }
      ],
      "source": [
        "lista = [5, 8, 5, 3, 9, 1, 3, 8, 7]\n",
        "numeri_senza_duplicati = []\n",
        "for numero in lista:\n",
        "    if numero not in numeri_senza_duplicati:\n",
        "        numeri_senza_duplicati.append(numero)\n",
        "print(numeri_senza_duplicati)"
      ]
    },
    {
      "cell_type": "markdown",
      "metadata": {
        "id": "B10VRHL1_gZ_"
      },
      "source": [
        "Usa un ciclo for per scorrere l'elenco e trovare la parola con meno caratteri,stampa il risultato.\n",
        "parole = [\"telefono\", \"pc\", \"mouse\", \"tastiera\", \"monitor\"]"
      ]
    },
    {
      "cell_type": "code",
      "execution_count": null,
      "metadata": {
        "id": "p1ZF21DVAs8w",
        "colab": {
          "base_uri": "https://localhost:8080/"
        },
        "outputId": "f7bf36e9-c58e-4535-cfab-d556d23c1e65"
      },
      "outputs": [
        {
          "output_type": "stream",
          "name": "stdout",
          "text": [
            "2\n"
          ]
        }
      ],
      "source": [
        "parole = [\"telefono\", \"pc\", \"mouse\", \"tastiera\", \"monitor\"]\n",
        "lunghezza_min = len(parole[0])\n",
        "for parola in parole:\n",
        "    if lunghezza_min > len(parola):\n",
        "        lunghezza_min = len(parola)\n",
        "print(lunghezza_min)"
      ]
    },
    {
      "cell_type": "markdown",
      "metadata": {
        "id": "wKnvQ-4kAxjZ"
      },
      "source": [
        "Chiedi all'utente di inserire numeri interi fino a che la somma non raggiunge almeno 100, quando la somma raggiunge o supera 100, stampa la somma totale e termina il programma."
      ]
    },
    {
      "cell_type": "code",
      "execution_count": null,
      "metadata": {
        "id": "Pamz8Oe7BkNf",
        "colab": {
          "base_uri": "https://localhost:8080/"
        },
        "outputId": "ca8a6aad-5e61-4352-8525-bab870c734a6"
      },
      "outputs": [
        {
          "output_type": "stream",
          "name": "stdout",
          "text": [
            "inserisci un numero intero: 20\n",
            "inserisci un numero intero: 69\n",
            "inserisci un numero intero: 29\n",
            "118\n"
          ]
        }
      ],
      "source": [
        "somma = 0\n",
        "while somma <100:\n",
        "  numero = int(input(\"inserisci un numero intero: \"))\n",
        "  somma += numero\n",
        "  if somma >= 100:\n",
        "    print(somma)\n",
        "    break"
      ]
    },
    {
      "cell_type": "markdown",
      "metadata": {
        "id": "zXLCrC_MBtB8"
      },
      "source": [
        "Carica numeri interi in una lista finché l'utente non inserisce un numero negativo,stampa la lista dei numeri inseriti"
      ]
    },
    {
      "cell_type": "code",
      "execution_count": null,
      "metadata": {
        "id": "CPFiS-pBCG_y",
        "colab": {
          "base_uri": "https://localhost:8080/"
        },
        "outputId": "6e2a25f6-0bde-4459-8215-149dbfbe6521"
      },
      "outputs": [
        {
          "output_type": "stream",
          "name": "stdout",
          "text": [
            "inserisci un numero intero: 565\n",
            "inserisci un numero intero: 43\n",
            "inserisci un numero intero: 21\n",
            "inserisci un numero intero: 345\n",
            "inserisci un numero intero: 677\n",
            "inserisci un numero intero: -5\n",
            "[565, 43, 21, 345, 677]\n"
          ]
        }
      ],
      "source": [
        "lista = []\n",
        "\n",
        "while True:\n",
        "  numero = int(input(\"inserisci un numero intero: \"))\n",
        "  if numero >= 0:\n",
        "    lista.append(numero)\n",
        "  else:\n",
        "    break\n",
        "print(lista)"
      ]
    },
    {
      "cell_type": "markdown",
      "metadata": {
        "id": "OGphKSnfCMNj"
      },
      "source": [
        "Chiedi all'utente di inserire 5 nomi e caricali in una lista, stampa la lista stringa per stringa"
      ]
    },
    {
      "cell_type": "code",
      "execution_count": null,
      "metadata": {
        "id": "Z5r3PLEzCSSB",
        "colab": {
          "base_uri": "https://localhost:8080/"
        },
        "outputId": "c75a4ceb-1d24-4aaa-cad2-ba3915bdbdf9"
      },
      "outputs": [
        {
          "output_type": "stream",
          "name": "stdout",
          "text": [
            "inserisci un nome: dkdjd\n",
            "inserisci un nome: dhdhd\n",
            "inserisci un nome: dhdhd\n",
            "inserisci un nome: dgdhd\n",
            "inserisci un nome: dhdh\n",
            "\n",
            "1 dkdjd\n",
            "2 dhdhd\n",
            "3 dhdhd\n",
            "4 dgdhd\n",
            "5 dhdh\n"
          ]
        }
      ],
      "source": [
        "lista = []\n",
        "for i in range(5):\n",
        "  nome = input(\"inserisci un nome: \")\n",
        "  lista.append(nome)\n",
        "print()\n",
        "for i in range (len(lista)):\n",
        "  print(i+1, lista[i])"
      ]
    },
    {
      "cell_type": "markdown",
      "metadata": {
        "id": "IiteGd20CZk1"
      },
      "source": [
        "Carica numeri interi in una lista finché l'utente non inserisce uno zero,stampa solo i numeri pari della lista."
      ]
    },
    {
      "cell_type": "code",
      "execution_count": null,
      "metadata": {
        "id": "z-U0cBDbCca_",
        "colab": {
          "base_uri": "https://localhost:8080/"
        },
        "outputId": "d3005ba0-70f9-4a7b-928f-f93366684a3b"
      },
      "outputs": [
        {
          "output_type": "stream",
          "name": "stdout",
          "text": [
            "Inserisci un numero intero, se inserisci 0 il ciclo finisce: 565\n",
            "Inserisci un numero intero, se inserisci 0 il ciclo finisce: 76\n",
            "Inserisci un numero intero, se inserisci 0 il ciclo finisce: 77\n",
            "Inserisci un numero intero, se inserisci 0 il ciclo finisce: 90\n",
            "Inserisci un numero intero, se inserisci 0 il ciclo finisce: 31\n",
            "Inserisci un numero intero, se inserisci 0 il ciclo finisce: 23\n",
            "Inserisci un numero intero, se inserisci 0 il ciclo finisce: 0\n",
            "[76, 90]\n"
          ]
        }
      ],
      "source": [
        "numero = 0\n",
        "lista = []\n",
        "while True:\n",
        "  numero = int(input(\"Inserisci un numero intero, se inserisci 0 il ciclo finisce: \"))\n",
        "  if numero != 0:\n",
        "    lista.append(numero)\n",
        "  else:\n",
        "    break\n",
        "numeri_pari = []\n",
        "for i in range (len(lista)):\n",
        "  if lista[i] % 2 == 0:\n",
        "    numeri_pari.append(lista[i])\n",
        "print(numeri_pari)"
      ]
    },
    {
      "cell_type": "markdown",
      "metadata": {
        "id": "GIxayBJFCcrT"
      },
      "source": []
    }
  ],
  "metadata": {
    "colab": {
      "provenance": []
    },
    "kernelspec": {
      "display_name": "Python 3",
      "language": "python",
      "name": "python3"
    },
    "language_info": {
      "codemirror_mode": {
        "name": "ipython",
        "version": 3
      },
      "file_extension": ".py",
      "mimetype": "text/x-python",
      "name": "python",
      "nbconvert_exporter": "python",
      "pygments_lexer": "ipython3",
      "version": "3.11.4"
    }
  },
  "nbformat": 4,
  "nbformat_minor": 0
}