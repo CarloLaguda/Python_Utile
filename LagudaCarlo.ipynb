{
 "cells": [
  {
   "cell_type": "markdown",
   "id": "76c59f00-655c-4d36-9ebc-f755924207e5",
   "metadata": {},
   "source": [
    "# Verifica basi di python\n",
    "### Consegnare il notebook rinominato CognomeNome.ipynb"
   ]
  },
  {
   "cell_type": "markdown",
   "id": "e88d27eb-9813-4090-bf1a-474bfc7326e2",
   "metadata": {},
   "source": [
    "#### 1) Dato il seguente dizionario, calcolare la media dei voti per ogni studente (0.5pt)"
   ]
  },
  {
   "cell_type": "code",
   "execution_count": 2,
   "id": "3a676923-0b93-4890-b7ba-2f748033f494",
   "metadata": {},
   "outputs": [
    {
     "name": "stdout",
     "output_type": "stream",
     "text": [
      "Media di:  Mario 7.0\n",
      "Media di:  Marco 8.666666666666666\n",
      "Media di:  Luigi 6.666666666666667\n"
     ]
    }
   ],
   "source": [
    "studenti = {\n",
    "    1: {\"nome\": \"Mario\", \"cognome\": \"Rossi\", \"voti\": [7, 8, 6]},\n",
    "    2: {\"nome\": \"Marco\", \"cognome\": \"Bianchi\", \"voti\": [9, 8, 9]},\n",
    "    3: {\"nome\": \"Luigi\", \"cognome\": \"Verdi\", \"voti\": [6, 7, 7]}\n",
    "}\n",
    "\n",
    "for chiave in studenti:\n",
    "    media = sum(studenti[chiave][\"voti\"])/len(studenti[chiave][\"voti\"])\n",
    "    print(\"Media di: \", studenti[chiave][\"nome\"], media)"
   ]
  },
  {
   "cell_type": "markdown",
   "id": "3bd9086d-5543-4cd8-9c23-c23e2715275e",
   "metadata": {},
   "source": [
    "#### 2) Dato il seguente dizionario, si inseriscano N studenti scelti dall'utente (1pt)"
   ]
  },
  {
   "cell_type": "code",
   "execution_count": 77,
   "id": "b566fe2b-eddd-496c-871f-16e8576438d1",
   "metadata": {},
   "outputs": [
    {
     "name": "stdin",
     "output_type": "stream",
     "text": [
      "Inserisci il numero di studenti da inserire:  1\n",
      "Inserisci il nome dello studente:  gigi\n",
      "Inserisci il cognome dello studente:  agus\n",
      "Inserisci i voti dello studente da 0 a 10, se inserisci -1 termini:  1\n",
      "Inserisci i voti dello studente da 0 a 10, se inserisci -1 termini:  3\n",
      "Inserisci i voti dello studente da 0 a 10, se inserisci -1 termini:  -1\n"
     ]
    },
    {
     "name": "stdout",
     "output_type": "stream",
     "text": [
      "Studente inserito\n"
     ]
    }
   ],
   "source": [
    "studenti = {\n",
    "    1: {\"nome\": \"Mario\", \"cognome\": \"Rossi\", \"voti\": [7, 8, 6]},\n",
    "    2: {\"nome\": \"Marco\", \"cognome\": \"Bianchi\", \"voti\": [9, 8, 9]},\n",
    "    3: {\"nome\": \"Luigi\", \"cognome\": \"Verdi\", \"voti\": [6, 7, 7]}\n",
    "}\n",
    "id = 4\n",
    "while True:\n",
    "    try:\n",
    "        n = int(input(\"Inserisci il numero di studenti da inserire: \"))\n",
    "        if n < 0:\n",
    "            print(\"Devi inserire un numero intero maggiore di 0\")\n",
    "        else:\n",
    "            break\n",
    "    except ValueError:\n",
    "         print(\"Devi inserire un numero intero\")\n",
    "lista_voti = []\n",
    "for i in range(n):\n",
    "    nome = input(\"Inserisci il nome dello studente: \")\n",
    "    cognome = input(\"Inserisci il cognome dello studente: \")  \n",
    "    while True:\n",
    "        try:\n",
    "            voto = float(input(\"Inserisci i voti dello studente da 0 a 10, se inserisci -1 termini: \"))\n",
    "            if voto == -1:\n",
    "                break\n",
    "            else:\n",
    "                if 0<=voto<=10:\n",
    "                    lista_voti.append(voto)\n",
    "                else:\n",
    "                    print(\"Valore non valido\")\n",
    "        except ValueError:\n",
    "              print(\"Deve essere un numero intero o con la virgola\")\n",
    "    studenti[id] = {\"nome\": nome, \"cognome\": cognome, \"voti\": lista_voti}\n",
    "    id +=1\n",
    "    print(\"Studente inserito\")"
   ]
  },
  {
   "cell_type": "markdown",
   "id": "0ddd3a4a-e000-4ef0-844f-d1306e347c5b",
   "metadata": {},
   "source": [
    "#### 3) Scrivi un programma in python che faccia caricare all'utente due set di N interi e ne calcoli l'unione, l'intersezione e la differenza (0.5pt)"
   ]
  },
  {
   "cell_type": "code",
   "execution_count": 80,
   "id": "abf245e5-72d7-4bd3-b8d5-799f09f264d0",
   "metadata": {},
   "outputs": [
    {
     "name": "stdin",
     "output_type": "stream",
     "text": [
      "Inserisci il numero di elementi per ogni set :  3\n",
      "Inserisci il valore per il set 1:  1\n",
      "Inserisci il valore per il set 1:  ddd\n"
     ]
    },
    {
     "name": "stdout",
     "output_type": "stream",
     "text": [
      "Devi inserire un numero intero\n"
     ]
    },
    {
     "name": "stdin",
     "output_type": "stream",
     "text": [
      "Inserisci il valore per il set 1:  2\n",
      "Inserisci il valore per il set 1:  3\n",
      "Inserisci il valore per il set 2:  1dhjdd\n"
     ]
    },
    {
     "name": "stdout",
     "output_type": "stream",
     "text": [
      "Devi inserire un numero intero\n"
     ]
    },
    {
     "name": "stdin",
     "output_type": "stream",
     "text": [
      "Inserisci il valore per il set 2:  4\n",
      "Inserisci il valore per il set 2:  3\n",
      "Inserisci il valore per il set 2:  1\n"
     ]
    },
    {
     "name": "stdout",
     "output_type": "stream",
     "text": [
      "Unione: {1, 2, 3, 4}\n",
      "Intersezione: {1, 3}\n",
      "Differenza: {2, 4}\n"
     ]
    }
   ],
   "source": [
    "lista1 = []\n",
    "lista2 = []\n",
    "\n",
    "while True:\n",
    "    try:\n",
    "        n = int(input(\"Inserisci il numero di elementi per ogni set : \"))\n",
    "        if n < 0:\n",
    "            print(\"Devi inserire un numero intero maggiore di 0\")\n",
    "        else:\n",
    "            break\n",
    "    except ValueError:\n",
    "         print(\"Devi inserire un numero intero\")\n",
    "\n",
    "\n",
    "for i in range(n):\n",
    "   while True:\n",
    "        try:\n",
    "            x = int(input(\"Inserisci il valore per il set 1: \"))\n",
    "            lista1.append(x)\n",
    "            break\n",
    "        except ValueError:\n",
    "            print(\"Devi inserire un numero intero\")\n",
    "            \n",
    "for i in range(n):\n",
    "    while True:\n",
    "        try:\n",
    "            x = int(input(\"Inserisci il valore per il set 2: \"))\n",
    "            lista2.append(x)\n",
    "            break\n",
    "        except ValueError:\n",
    "            print(\"Devi inserire un numero intero\")\n",
    "\n",
    "set1 = set(lista1)\n",
    "set2 = set(lista2)\n",
    "\n",
    "set_int = set1.intersection(set2)\n",
    "set_uni = set1.union(set2)\n",
    "set_diff = set1.symmetric_difference(set2)\n",
    "\n",
    "print(\"Unione:\", set_uni)\n",
    "print(\"Intersezione:\", set_int)\n",
    "print(\"Differenza:\", set_diff)"
   ]
  },
  {
   "cell_type": "markdown",
   "id": "f3bef641-17cd-479d-9e2f-3bebeba627c5",
   "metadata": {},
   "source": [
    "#### 4) Dato il seguente dizionario, si calcoli il valore totale dell'inventario (1pt)"
   ]
  },
  {
   "cell_type": "code",
   "execution_count": 18,
   "id": "6760af55-3713-4d8a-899a-4ee9fc7b4bf5",
   "metadata": {},
   "outputs": [
    {
     "name": "stdout",
     "output_type": "stream",
     "text": [
      "Prezzo totale inventario: 40.5\n"
     ]
    }
   ],
   "source": [
    "inventario = {\n",
    "    \"penna\": {\"quantità\": 10, \"prezzo\": 1.2},\n",
    "    \"quaderno\": {\"quantità\": 5, \"prezzo\": 2.5},\n",
    "    \"gomma\": {\"quantità\": 20, \"prezzo\": 0.8}\n",
    "}\n",
    "somma_tot = 0\n",
    "for chiave in inventario:\n",
    "    somma_tot += inventario[chiave][\"quantità\"]*inventario[chiave][\"prezzo\"]\n",
    "print(\"Prezzo totale inventario:\", somma_tot)"
   ]
  },
  {
   "cell_type": "markdown",
   "id": "687a7029-9ca1-41c3-9dbe-9d0efe3aa434",
   "metadata": {},
   "source": [
    "#### 5) Scrivi un programma in python che faccia caricare all'utente una lista di N elementi interi, stampa l'elemento maggiore senza usare metodi built-in (max) (1pt)"
   ]
  },
  {
   "cell_type": "code",
   "execution_count": 66,
   "id": "42d25d86-b9c3-4697-b939-b544961171dd",
   "metadata": {},
   "outputs": [
    {
     "name": "stdin",
     "output_type": "stream",
     "text": [
      "Inserisci il numero di elementi per ogni lista (si inizia a contare da 0):  4\n",
      "Inserisci il valore per la lista :  1\n",
      "Inserisci il valore per la lista :  2\n",
      "Inserisci il valore per la lista :  3\n",
      "Inserisci il valore per la lista :  4\n"
     ]
    },
    {
     "name": "stdout",
     "output_type": "stream",
     "text": [
      "[1, 2, 3, 4]\n",
      "Il numero più alto è:  4\n"
     ]
    }
   ],
   "source": [
    "lista = []\n",
    "while True:\n",
    "    try:\n",
    "        n = int(input(\"Inserisci il numero di elementi per ogni lista: \"))\n",
    "        if n < 0:\n",
    "            print(\"Devi inserire un numero intero maggiore di 0\")\n",
    "        else:\n",
    "            break\n",
    "    except ValueError:\n",
    "         print(\"Devi inserire un numero intero\")\n",
    "\n",
    "for i in range(n):\n",
    "    while True:\n",
    "        try:\n",
    "            x = int(input(\"Inserisci il valore per la lista : \"))\n",
    "            lista.append(x)\n",
    "            break\n",
    "        except ValueError:\n",
    "            print(\"Devi inserire un numero intero\")\n",
    "\n",
    "nmax = lista[0]\n",
    "for i in lista:\n",
    "    if i > nmax:\n",
    "        nmax = i\n",
    "\n",
    "print(lista)\n",
    "print(\"Il numero più alto è: \", nmax)"
   ]
  },
  {
   "cell_type": "markdown",
   "id": "b2366222-7aed-434b-a64d-8fbc8085d223",
   "metadata": {},
   "source": [
    "#### 6) Chiedi all'utente di inserire un numero intero N non negativo e stampa la N-esima posizione della sequenza di fibonacci. (1pt)\n",
    "\n",
    "**La successione di Fibonacci è una successione di numeri interi in cui ciascun numero è la somma dei due precedenti**  \n",
    "**0 , 1 , 1 , 2 , 3 , 5 , 8 , 13 , 21 , 34 , 55 , 89 , 144 , 233 , 377 , 610 , 987 , ...**"
   ]
  },
  {
   "cell_type": "code",
   "execution_count": 70,
   "id": "833efd7b-6e29-4e08-91e6-00f414da4425",
   "metadata": {},
   "outputs": [
    {
     "name": "stdin",
     "output_type": "stream",
     "text": [
      "Inserisci la posizione della sequenza di fibonacci da visualizzare (si inizia a contare da 0):  3\n"
     ]
    },
    {
     "name": "stdout",
     "output_type": "stream",
     "text": [
      "2\n"
     ]
    }
   ],
   "source": [
    "while True:\n",
    "    try:\n",
    "        n = int(input(\"Inserisci la posizione della sequenza di fibonacci da visualizzare (si inizia a contare da 0): \"))\n",
    "        if n < 0:\n",
    "            print(\"Devi inserire un numero intero maggiore di 0\")\n",
    "        else:\n",
    "            break\n",
    "    except ValueError:\n",
    "         print(\"Devi inserire un numero intero\")\n",
    "a = 0\n",
    "b = 1\n",
    "sequenza = [0, 1]\n",
    "for i in range(n):\n",
    "    somma = a+b\n",
    "    a = b\n",
    "    b = somma\n",
    "    sequenza.append(somma)\n",
    "print(sequenza[n])"
   ]
  },
  {
   "cell_type": "markdown",
   "id": "47e9bd3d-25d5-4ec2-99c8-7323af04deec",
   "metadata": {},
   "source": [
    "#### 7) Chiedi all'utente di inserire due liste di numeri di uguale lunghezza, confrontare gli elementi delle due liste, uno a uno. Stampa una lista che contiene il massimo tra i due elementi in ciascuna posizione. (1pt)"
   ]
  },
  {
   "cell_type": "code",
   "execution_count": 65,
   "id": "6b7240d9-85c0-4384-92b9-39554d3d0ef7",
   "metadata": {},
   "outputs": [
    {
     "name": "stdin",
     "output_type": "stream",
     "text": [
      "Inserisci la lunghezza delle liste:  3\n",
      "Inserisci il valore per la lista 1:  1\n",
      "Inserisci il valore per la lista 1:  2\n",
      "Inserisci il valore per la lista 1:  3\n",
      "Inserisci il valore per la lista 2:  0\n",
      "Inserisci il valore per la lista 2:  1\n",
      "Inserisci il valore per la lista 2:  5\n"
     ]
    },
    {
     "name": "stdout",
     "output_type": "stream",
     "text": [
      "Lista 1: [1, 2, 3]\n",
      "Lista 2: [0, 1, 5]\n",
      "Lista con valori max: [1, 2, 5]\n"
     ]
    }
   ],
   "source": [
    "n = int(input(\"Inserisci la lunghezza delle liste: \"))\n",
    "\n",
    "lista1 = []\n",
    "lista2 = []\n",
    "lista_max = []\n",
    "\n",
    "for i in range(n):\n",
    "    while True:\n",
    "        try:\n",
    "            x = int(input(\"Inserisci il valore per la lista 1: \"))\n",
    "            lista1.append(x)\n",
    "            break\n",
    "        except ValueError:\n",
    "            print(\"Devi inserire un numero intero\")\n",
    "\n",
    "for i in range(n):\n",
    "    while True:\n",
    "        try:\n",
    "            x = int(input(\"Inserisci il valore per la lista 2: \"))\n",
    "            lista2.append(x)\n",
    "            break\n",
    "        except ValueError:\n",
    "            print(\"Devi inserire un numero intero\")\n",
    "\n",
    "for i in range(len(lista1)):\n",
    "    if lista1[i]>lista2[i]:\n",
    "        lista_max.append(lista1[i])\n",
    "    else:\n",
    "        lista_max.append(lista2[i])\n",
    "print(\"Lista 1:\", lista1)\n",
    "print(\"Lista 2:\", lista2)\n",
    "print(\"Lista con valori max:\", lista_max)"
   ]
  },
  {
   "cell_type": "markdown",
   "id": "6c48aa6e-b7ae-4ea1-8930-b821bf977393",
   "metadata": {},
   "source": [
    "#### 8) Scrivi un programma in python che dato il seguente dizionario se l'utente:  (1pt)\n",
    "##### -Inserisce 1 si aggiunge una coppia chiave-valore scelta dall'utente  \n",
    "##### -Inserisce 2 si elimina una coppia chiave-valore scelta dall'utente (controllando che la chiave esiste)  \n",
    "##### -Inserisce qualsiasi altro numero il programma termina"
   ]
  },
  {
   "cell_type": "code",
   "execution_count": 37,
   "id": "b9ebeaab-b14c-4cbb-8aed-2f0ea7575c6c",
   "metadata": {},
   "outputs": [
    {
     "name": "stdout",
     "output_type": "stream",
     "text": [
      "------------------------------------------------\n",
      "1. Inserisci coppia chiave valore\n",
      "2. Elimini coppia chiave valore\n",
      "Qualsiasi altro numero termina il programma\n",
      "------------------------------------------------\n"
     ]
    },
    {
     "name": "stdin",
     "output_type": "stream",
     "text": [
      "Inserisci la tua scelta:  ddvcvdfd\n"
     ]
    },
    {
     "name": "stdout",
     "output_type": "stream",
     "text": [
      "Il valore deve essere un numero itero\n",
      "------------------------------------------------\n",
      "1. Inserisci coppia chiave valore\n",
      "2. Elimini coppia chiave valore\n",
      "Qualsiasi altro numero termina il programma\n",
      "------------------------------------------------\n"
     ]
    },
    {
     "ename": "KeyboardInterrupt",
     "evalue": "Interrupted by user",
     "output_type": "error",
     "traceback": [
      "\u001b[1;31m---------------------------------------------------------------------------\u001b[0m",
      "\u001b[1;31mKeyboardInterrupt\u001b[0m                         Traceback (most recent call last)",
      "Cell \u001b[1;32mIn[37], line 28\u001b[0m\n\u001b[0;32m     25\u001b[0m \u001b[38;5;28mprint\u001b[39m(\u001b[38;5;124m\"\u001b[39m\u001b[38;5;124m------------------------------------------------\u001b[39m\u001b[38;5;124m\"\u001b[39m)\n\u001b[0;32m     27\u001b[0m \u001b[38;5;28;01mtry\u001b[39;00m:\n\u001b[1;32m---> 28\u001b[0m     scelta \u001b[38;5;241m=\u001b[39m \u001b[38;5;28mint\u001b[39m(\u001b[38;5;28;43minput\u001b[39;49m\u001b[43m(\u001b[49m\u001b[38;5;124;43m\"\u001b[39;49m\u001b[38;5;124;43mInserisci la tua scelta: \u001b[39;49m\u001b[38;5;124;43m\"\u001b[39;49m\u001b[43m)\u001b[49m)\n\u001b[0;32m     29\u001b[0m     \u001b[38;5;28;01mif\u001b[39;00m scelta \u001b[38;5;241m==\u001b[39m \u001b[38;5;241m1\u001b[39m:\n\u001b[0;32m     30\u001b[0m         aggiungi_coppia()\n",
      "File \u001b[1;32mC:\\Python310\\lib\\site-packages\\ipykernel\\kernelbase.py:1282\u001b[0m, in \u001b[0;36mKernel.raw_input\u001b[1;34m(self, prompt)\u001b[0m\n\u001b[0;32m   1280\u001b[0m     msg \u001b[38;5;241m=\u001b[39m \u001b[38;5;124m\"\u001b[39m\u001b[38;5;124mraw_input was called, but this frontend does not support input requests.\u001b[39m\u001b[38;5;124m\"\u001b[39m\n\u001b[0;32m   1281\u001b[0m     \u001b[38;5;28;01mraise\u001b[39;00m StdinNotImplementedError(msg)\n\u001b[1;32m-> 1282\u001b[0m \u001b[38;5;28;01mreturn\u001b[39;00m \u001b[38;5;28;43mself\u001b[39;49m\u001b[38;5;241;43m.\u001b[39;49m\u001b[43m_input_request\u001b[49m\u001b[43m(\u001b[49m\n\u001b[0;32m   1283\u001b[0m \u001b[43m    \u001b[49m\u001b[38;5;28;43mstr\u001b[39;49m\u001b[43m(\u001b[49m\u001b[43mprompt\u001b[49m\u001b[43m)\u001b[49m\u001b[43m,\u001b[49m\n\u001b[0;32m   1284\u001b[0m \u001b[43m    \u001b[49m\u001b[38;5;28;43mself\u001b[39;49m\u001b[38;5;241;43m.\u001b[39;49m\u001b[43m_parent_ident\u001b[49m\u001b[43m[\u001b[49m\u001b[38;5;124;43m\"\u001b[39;49m\u001b[38;5;124;43mshell\u001b[39;49m\u001b[38;5;124;43m\"\u001b[39;49m\u001b[43m]\u001b[49m\u001b[43m,\u001b[49m\n\u001b[0;32m   1285\u001b[0m \u001b[43m    \u001b[49m\u001b[38;5;28;43mself\u001b[39;49m\u001b[38;5;241;43m.\u001b[39;49m\u001b[43mget_parent\u001b[49m\u001b[43m(\u001b[49m\u001b[38;5;124;43m\"\u001b[39;49m\u001b[38;5;124;43mshell\u001b[39;49m\u001b[38;5;124;43m\"\u001b[39;49m\u001b[43m)\u001b[49m\u001b[43m,\u001b[49m\n\u001b[0;32m   1286\u001b[0m \u001b[43m    \u001b[49m\u001b[43mpassword\u001b[49m\u001b[38;5;241;43m=\u001b[39;49m\u001b[38;5;28;43;01mFalse\u001b[39;49;00m\u001b[43m,\u001b[49m\n\u001b[0;32m   1287\u001b[0m \u001b[43m\u001b[49m\u001b[43m)\u001b[49m\n",
      "File \u001b[1;32mC:\\Python310\\lib\\site-packages\\ipykernel\\kernelbase.py:1325\u001b[0m, in \u001b[0;36mKernel._input_request\u001b[1;34m(self, prompt, ident, parent, password)\u001b[0m\n\u001b[0;32m   1322\u001b[0m \u001b[38;5;28;01mexcept\u001b[39;00m \u001b[38;5;167;01mKeyboardInterrupt\u001b[39;00m:\n\u001b[0;32m   1323\u001b[0m     \u001b[38;5;66;03m# re-raise KeyboardInterrupt, to truncate traceback\u001b[39;00m\n\u001b[0;32m   1324\u001b[0m     msg \u001b[38;5;241m=\u001b[39m \u001b[38;5;124m\"\u001b[39m\u001b[38;5;124mInterrupted by user\u001b[39m\u001b[38;5;124m\"\u001b[39m\n\u001b[1;32m-> 1325\u001b[0m     \u001b[38;5;28;01mraise\u001b[39;00m \u001b[38;5;167;01mKeyboardInterrupt\u001b[39;00m(msg) \u001b[38;5;28;01mfrom\u001b[39;00m \u001b[38;5;28;01mNone\u001b[39;00m\n\u001b[0;32m   1326\u001b[0m \u001b[38;5;28;01mexcept\u001b[39;00m \u001b[38;5;167;01mException\u001b[39;00m:\n\u001b[0;32m   1327\u001b[0m     \u001b[38;5;28mself\u001b[39m\u001b[38;5;241m.\u001b[39mlog\u001b[38;5;241m.\u001b[39mwarning(\u001b[38;5;124m\"\u001b[39m\u001b[38;5;124mInvalid Message:\u001b[39m\u001b[38;5;124m\"\u001b[39m, exc_info\u001b[38;5;241m=\u001b[39m\u001b[38;5;28;01mTrue\u001b[39;00m)\n",
      "\u001b[1;31mKeyboardInterrupt\u001b[0m: Interrupted by user"
     ]
    }
   ],
   "source": [
    "studente = {\n",
    "    \"nome\": \"Mario\",\n",
    "    \"cognome\": \"Rossi\",\n",
    "    \"età\": 17,\n",
    "    \"classe\": \"4F\"\n",
    "}\n",
    "\n",
    "def aggiungi_coppia():\n",
    "    chiave = input(\"Inserisci la chiave: \")\n",
    "    studente[chiave] = input(\"Inserisci il valore della chiave: \")\n",
    "    print(\"Coppia aggiunta\")\n",
    "    \n",
    "def elimina_coppia():\n",
    "    print(studente.keys())\n",
    "    chiave_da_pop = input(\"Inserisci da eliminare: \")\n",
    "    if chiave_da_pop in studente.keys():\n",
    "        studente.pop(chiave_da_pop)\n",
    "    print(\"Coppia eliminata\")\n",
    "    \n",
    "while True:\n",
    "    print(\"------------------------------------------------\")\n",
    "    print(\"1. Inserisci coppia chiave valore\")\n",
    "    print(\"2. Elimini coppia chiave valore\")\n",
    "    print(\"Qualsiasi altro numero termina il programma\")\n",
    "    print(\"------------------------------------------------\")\n",
    "\n",
    "    try:\n",
    "        scelta = int(input(\"Inserisci la tua scelta: \"))\n",
    "        if scelta == 1:\n",
    "            aggiungi_coppia()\n",
    "        elif scelta ==  2:\n",
    "            elimina_coppia()\n",
    "        else:\n",
    "            break\n",
    "    except ValueError:\n",
    "         print(\"Il valore deve essere un numero itero\")\n",
    "        "
   ]
  },
  {
   "cell_type": "markdown",
   "id": "ff164c79-9aef-4d52-b294-06517f46b4de",
   "metadata": {},
   "source": [
    "#### 9) Realizza un programma in Python su un tema a tua scelta (ad esempio: gestione animali, biblioteca, ristorante, personaggi di un videogioco, pianificazione viaggi, collezioni personali, ecc.). Deve permettere all’utente di inserire, visualizzare, modificare o eliminare elementi tramite un menu interattivo. (2pt)\n",
    "\n",
    "#### -Utilizza almeno un dizionario annidato  \n",
    "#### -Il programma deve interagire con l’utente  \n",
    "#### -Prevedi almeno 3 funzionalità principali (es. aggiungi/modifica/mostra).  \n",
    "#### -Usa almeno un ciclo while per tenere attivo il menu finché l’utente non sceglie di uscire.  \n",
    "#### -I dati devono essere visibili in modo chiaro (con stampe ordinate).  "
   ]
  },
  {
   "cell_type": "code",
   "execution_count": 51,
   "id": "a470288a-022d-4813-92de-e7c73bc6c706",
   "metadata": {},
   "outputs": [
    {
     "name": "stdout",
     "output_type": "stream",
     "text": [
      "------------------------------------------------\n",
      "1. Aggiungi prodotto\n",
      "2. Visuallizza prodotti\n",
      "3. modifica prezzo prodotto\n",
      "4. Elimina prodotto\n",
      "5. Visualizza costo magazzino\n",
      "6. Esci\n",
      "------------------------------------------------\n"
     ]
    },
    {
     "name": "stdin",
     "output_type": "stream",
     "text": [
      "Inserisci l'oprazione da fare:  5\n"
     ]
    },
    {
     "name": "stdout",
     "output_type": "stream",
     "text": [
      "Prezzo totale inventario: 291.0\n",
      "------------------------------------------------\n",
      "1. Aggiungi prodotto\n",
      "2. Visuallizza prodotti\n",
      "3. modifica prezzo prodotto\n",
      "4. Elimina prodotto\n",
      "5. Visualizza costo magazzino\n",
      "6. Esci\n",
      "------------------------------------------------\n"
     ]
    },
    {
     "name": "stdin",
     "output_type": "stream",
     "text": [
      "Inserisci l'oprazione da fare:  6\n"
     ]
    }
   ],
   "source": [
    "magazzino = {\n",
    "    1:{\"nome\": \"viti\", \"quantità\": 45, \"prezzo\": 1.3}, \n",
    "    2:{\"nome\": \"bulloni\", \"quantità\": 50, \"prezzo\": 2.1}, \n",
    "    3:{\"nome\": \"chiodi\", \"quantità\": 75, \"prezzo\": 1.7}\n",
    "}\n",
    "\n",
    "next_id = 4\n",
    "\n",
    "def aggiungi_prodotto():\n",
    "    global next_id\n",
    "    while True:  \n",
    "        nome = input(\"Inserisci il nome del prodotto: \")\n",
    "        if nome == \"\":\n",
    "            print(\"Il nome non può essere vuoto\")\n",
    "        else:\n",
    "            break\n",
    "        \n",
    "    while True:\n",
    "        try:\n",
    "            quantita = int(input(\"Inserisci la quantità del prodotto, numero intero: \"))\n",
    "            if quantita < 0:\n",
    "                print(\"Non puoi avere valori negativi\")\n",
    "            else:\n",
    "                break\n",
    "        except ValueError:\n",
    "            print(\"Il valore deve essere un numero intero\")\n",
    "\n",
    "    while True:\n",
    "        try:\n",
    "            prezzo = float(input(\"Inserisci il prezzo del prodotto, numero intero o con la virgola: \"))\n",
    "            if prezzo < 0:\n",
    "                print(\"Non puoi avere valori negativi\")\n",
    "            else:\n",
    "                break\n",
    "        except ValueError:\n",
    "            print(\"Il valore deve essere un numero intero o con la virgola\")\n",
    "    magazzino[next_id] = {\"nome\": nome, \"quantità\": quantita, \"prezzo\": prezzo}\n",
    "    print(\"Prodotto ottenuto\")\n",
    "    next_id += 1\n",
    "    \n",
    "def visualizza_prodotti():\n",
    "    for i in magazzino:\n",
    "        print(i, magazzino[i])\n",
    "\n",
    "def modifica_prodotto():\n",
    "    print(magazzino.keys())\n",
    "\n",
    "    while True:\n",
    "        try:\n",
    "            scelta = int(input(\"Seleziona l'id del prodotto di cui vuoi modificare il prezzo: \"))\n",
    "            if not scelta in magazzino.keys():\n",
    "                print(\"Id non presente\")\n",
    "            else:\n",
    "                break\n",
    "        except ValueError:\n",
    "            print(\"Il valore dell'Id è un numero intero\")\n",
    "\n",
    "    while True:\n",
    "        try:\n",
    "            nuovo_prezzo = float(input(\"Inserisci il nuovo prezzo: \"))\n",
    "            if nuovo_prezzo < 0:\n",
    "                print(\"Il nuovo prezzo deve essere maggiore di 0\")\n",
    "            else:\n",
    "                magazzino[scelta][\"prezzo\"] = nuovo_prezzo   \n",
    "                break\n",
    "        except ValueError:\n",
    "            print(\"Il valore della nuovo prezzo è un numero intero o con la virgola\")\n",
    "    print(\"Prezzo modificato\")\n",
    "\n",
    "def elimina_prodotto():\n",
    "    print(magazzino.keys())\n",
    "\n",
    "    while True:\n",
    "        try:\n",
    "            scelta = int(input(\"Seleziona l'id del prodotto che vuoi eliminare: \"))\n",
    "            if not scelta in magazzino.keys():\n",
    "                print(\"id non presente\")\n",
    "            else:\n",
    "                magazzino.pop(scelta)\n",
    "                break\n",
    "        except ValueError:\n",
    "            print(\"Il valore dell'Id è un numero intero\")\n",
    "\n",
    "    print(\"Prodotto eliminata\")\n",
    "\n",
    "def visualizza_costo_tot():\n",
    "    somma_totale = 0\n",
    "    for chiave in magazzino:\n",
    "        somma_totale += magazzino[chiave][\"quantità\"]*magazzino[chiave][\"prezzo\"]\n",
    "    print(\"Prezzo totale inventario:\", somma_totale)\n",
    "\n",
    "def menu():\n",
    "    while True:\n",
    "        print(\"------------------------------------------------\")\n",
    "        print(\"1. Aggiungi prodotto\")\n",
    "        print(\"2. Visuallizza prodotti\")\n",
    "        print(\"3. modifica prezzo prodotto\")\n",
    "        print(\"4. Elimina prodotto\")\n",
    "        print(\"5. Visualizza costo magazzino\")\n",
    "        print(\"6. Esci\")\n",
    "        print(\"------------------------------------------------\")\n",
    "\n",
    "        try: \n",
    "            scelta = int(input(\"Inserisci l'oprazione da fare: \"))\n",
    "            if scelta == 1:\n",
    "                aggiungi_prodotto()\n",
    "            elif scelta == 2:\n",
    "                visualizza_prodotti()\n",
    "            elif scelta == 3:\n",
    "                modifica_prodotto()\n",
    "            elif scelta == 4:\n",
    "                elimina_prodotto()\n",
    "            elif scelta == 5:\n",
    "                visualizza_costo_tot()\n",
    "            else:\n",
    "                break\n",
    "        except ValueError:\n",
    "             print(\"Il valore deve essere un numero itero\")\n",
    "    \n",
    "menu()"
   ]
  },
  {
   "cell_type": "code",
   "execution_count": null,
   "id": "74405db0-bbde-4cf8-8509-c5363f31b3f1",
   "metadata": {},
   "outputs": [],
   "source": []
  }
 ],
 "metadata": {
  "kernelspec": {
   "display_name": "Python 3 (ipykernel)",
   "language": "python",
   "name": "python3"
  },
  "language_info": {
   "codemirror_mode": {
    "name": "ipython",
    "version": 3
   },
   "file_extension": ".py",
   "mimetype": "text/x-python",
   "name": "python",
   "nbconvert_exporter": "python",
   "pygments_lexer": "ipython3",
   "version": "3.10.7"
  }
 },
 "nbformat": 4,
 "nbformat_minor": 5
}
