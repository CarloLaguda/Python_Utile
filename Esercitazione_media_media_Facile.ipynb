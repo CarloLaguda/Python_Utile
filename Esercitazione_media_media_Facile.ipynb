{
  "cells": [
    {
      "cell_type": "markdown",
      "id": "b325ac3f-0a58-4caf-a926-ded4ada01d37",
      "metadata": {
        "id": "b325ac3f-0a58-4caf-a926-ded4ada01d37"
      },
      "source": [
        "## Verifica basi di python\n",
        "Consegnare il notebook rinominandolo CognomeNome.ipynb"
      ]
    },
    {
      "cell_type": "markdown",
      "id": "2ec9d0fd-71d0-46a9-be66-725bde9d2b8d",
      "metadata": {
        "id": "2ec9d0fd-71d0-46a9-be66-725bde9d2b8d"
      },
      "source": [
        "## Esercizio 1:\n",
        "Scrivi un programma in python che chieda all'utente in input un numero intero  \n",
        "non negativo, se negativo stampa 0. Calcola il fattoriale del numero e stampa il risultato.  \n",
        "**Definizione di fattoriale:**  \n",
        "Il fattoriale di un numero intero non negativo N è il prodotto di tutti i numeri interi positivi da 1 fino a N.  \n",
        "Ad esempio: N = 4  \n",
        "4! = 4×3×2×1 = 24  \n",
        "0! = 1 (per convenzione)  \n"
      ]
    },
    {
      "cell_type": "code",
      "execution_count": null,
      "id": "3c22346b-855f-48a7-a4ce-e887e98c560f",
      "metadata": {
        "id": "3c22346b-855f-48a7-a4ce-e887e98c560f",
        "colab": {
          "base_uri": "https://localhost:8080/"
        },
        "outputId": "ee077ef3-0461-4570-cf1f-ef00de7de944"
      },
      "outputs": [
        {
          "output_type": "stream",
          "name": "stdout",
          "text": [
            "Inserisci un numero intero: 5\n",
            "120\n"
          ]
        }
      ],
      "source": [
        "numero = int(input(\"Inserisci un numero intero: \"))\n",
        "if numero == 0:\n",
        "  print(1)\n",
        "elif numero < 0:\n",
        "  print(0)\n",
        "else:\n",
        "  for i in range(1, numero):\n",
        "    numero *= i\n",
        "  print(numero)"
      ]
    },
    {
      "cell_type": "markdown",
      "id": "61c203d8-fbeb-4601-a7bc-717907040b68",
      "metadata": {
        "id": "61c203d8-fbeb-4601-a7bc-717907040b68"
      },
      "source": [
        "## Esercizio 2:\n",
        "Scrivi un programma in python che chieda all'utente di inserire una lista di numeri interi.\n",
        "Il programma deve calcolare separatamente la somma dei numeri pari e quella dei numeri dispari, stampa entrambe le somme."
      ]
    },
    {
      "cell_type": "code",
      "execution_count": null,
      "id": "59ed4e4e-0e0d-4acc-85eb-0cb2029aa7e1",
      "metadata": {
        "id": "59ed4e4e-0e0d-4acc-85eb-0cb2029aa7e1",
        "colab": {
          "base_uri": "https://localhost:8080/"
        },
        "outputId": "267d7d84-4c52-475e-d78c-5c3a94bab68b"
      },
      "outputs": [
        {
          "output_type": "stream",
          "name": "stdout",
          "text": [
            "Inserisci il numero di elementi che vuoi inserire nella lista: 6\n",
            "Inserisci il numero3\n",
            "Inserisci il numero4\n",
            "Inserisci il numero7\n",
            "Inserisci il numero4\n",
            "Inserisci il numero5\n",
            "Inserisci il numero4\n",
            "Somma pari 12\n",
            "Somma dispari 15\n"
          ]
        }
      ],
      "source": [
        "n = int(input(\"Inserisci il numero di elementi che vuoi inserire nella lista: \"))\n",
        "lista = []\n",
        "somma_pari = 0\n",
        "somma_dispari = 0\n",
        "for _ in range(n):\n",
        "  x = int(input(\"Inserisci il numero: \"))\n",
        "  lista.append(x)\n",
        "  if x%2==0:\n",
        "    somma_pari += x\n",
        "  else:\n",
        "    somma_dispari += x\n",
        "print(\"Somma pari\", somma_pari)\n",
        "print(\"Somma dispari\", somma_dispari)"
      ]
    },
    {
      "cell_type": "markdown",
      "id": "dafbaac9-fab6-443e-8289-381997a70843",
      "metadata": {
        "id": "dafbaac9-fab6-443e-8289-381997a70843"
      },
      "source": [
        "## Esercizio 3:\n",
        "\n",
        "Scrivi un programma in Python che chieda all'utente di inserire una lista di N stringhe e un numero X. Stampa tutte le parole che hanno una lunghezza\n",
        "maggiore di X."
      ]
    },
    {
      "cell_type": "code",
      "execution_count": null,
      "id": "1d32b88f-1017-4719-8eb3-b371a555c47c",
      "metadata": {
        "id": "1d32b88f-1017-4719-8eb3-b371a555c47c",
        "colab": {
          "base_uri": "https://localhost:8080/"
        },
        "outputId": "778d4221-3c86-4731-9371-2d6d8a831003"
      },
      "outputs": [
        {
          "output_type": "stream",
          "name": "stdout",
          "text": [
            "Inserisci il numero di parole che vuoi inserire nella lista: 3\n",
            "Inserisci il numero di riferimento per il confronto: 4\n",
            "Inserisci la parola: hdh\n",
            "Inserisci la parola: dhddhhd\n",
            "Inserisci la parola: hdhd\n",
            "dhddhhd\n"
          ]
        }
      ],
      "source": [
        "n = int(input(\"Inserisci il numero di parole che vuoi inserire nella lista: \"))\n",
        "x = int(input(\"Inserisci il numero di riferimento per il confronto: \"))\n",
        "lista = []\n",
        "for _ in range(n):\n",
        "  parola = input(\"Inserisci la parola: \")\n",
        "  lista.append(parola)\n",
        "print(\"Parole con la lunghezza adeguata:\")\n",
        "for parola in lista:\n",
        "  if len(parola)>x:\n",
        "    print(parola)"
      ]
    },
    {
      "cell_type": "markdown",
      "id": "8506f132-c9aa-4549-b978-098bcf3943d2",
      "metadata": {
        "id": "8506f132-c9aa-4549-b978-098bcf3943d2"
      },
      "source": [
        "## Esercizio 4:\n",
        "Scrivi un programma in python che chieda all’utente di inserire numeri interi, il\n",
        "programma termina quando l’utente inserisce 0, stampa la media dei numeri inseriti.  \n",
        " **Non usare liste**\n",
        "\n",
        "**Media: (x1 + x2 + x3 + ... + xn) / n**"
      ]
    },
    {
      "cell_type": "code",
      "execution_count": null,
      "id": "2e6bb454-bc24-41dd-94fc-af1ed9cc77d3",
      "metadata": {
        "id": "2e6bb454-bc24-41dd-94fc-af1ed9cc77d3",
        "colab": {
          "base_uri": "https://localhost:8080/"
        },
        "outputId": "ac333815-6ead-4012-e232-f85d30ce67b0"
      },
      "outputs": [
        {
          "output_type": "stream",
          "name": "stdout",
          "text": [
            "Inserisci il numero per fare la media, se scrivi 0 finisce il ciclo: 3\n",
            "Inserisci il numero per fare la media, se scrivi 0 finisce il ciclo: 3\n",
            "Inserisci il numero per fare la media, se scrivi 0 finisce il ciclo: 3\n",
            "Inserisci il numero per fare la media, se scrivi 0 finisce il ciclo: 0\n",
            "3.0\n"
          ]
        }
      ],
      "source": [
        "numero = 0\n",
        "contatore = 0\n",
        "somma =0\n",
        "while True:\n",
        "  numero = int(input(\"Inserisci il numero per fare la media, se scrivi 0 finisce il ciclo: \"))\n",
        "  if numero ==0:\n",
        "    break\n",
        "  else:\n",
        "    somma += numero\n",
        "    contatore +=1\n",
        "print(somma/contatore)"
      ]
    },
    {
      "cell_type": "markdown",
      "id": "9871b9df-924d-435c-80b4-bbb9eb3953ad",
      "metadata": {
        "id": "9871b9df-924d-435c-80b4-bbb9eb3953ad"
      },
      "source": [
        "## Esercizio 5:\n",
        "\n",
        "Chiedi all'utente di inserire una lista di N frasi, una parola da sostituire e una parola con cui\n",
        "sostituirla. Crea una nuova lista di frasi in cui la parola è stata sostituita,\n",
        "stampa la nuova lista."
      ]
    },
    {
      "cell_type": "code",
      "execution_count": null,
      "id": "dba8244e-ce74-4a36-9c03-b5a2454b11f8",
      "metadata": {
        "id": "dba8244e-ce74-4a36-9c03-b5a2454b11f8",
        "colab": {
          "base_uri": "https://localhost:8080/"
        },
        "outputId": "6238b79b-5b69-4208-ec99-c8def528c4b1"
      },
      "outputs": [
        {
          "output_type": "stream",
          "name": "stdout",
          "text": [
            "Insersci il nuemro di frasi da inserire: 2\n",
            "Inserisci la parola da sostituire nella frase: ciao\n",
            "Inserisci la parola ch farà da sostituta nella frase: nutella\n",
            "Inserisci la frase: ciao amici\n",
            "nutella amici\n",
            "['nutella amici']\n",
            "Inserisci la frase: di nuovo ciao amici\n",
            "di nuovo nutella amici\n",
            "['di nuovo nutella amici']\n",
            "['ciao amici', 'di nuovo ciao amici']\n",
            "['di nuovo nutella amici']\n"
          ]
        }
      ],
      "source": [
        "n = int(input(\"Insersci il nuemro di frasi da inserire: \"))\n",
        "parola_sotituire = input(\"Inserisci la parola da sostituire nella frase: \")\n",
        "parola_sostituta = input(\"Inserisci la parola ch farà da sostituta nella frase: \")\n",
        "lista = []\n",
        "for _ in range(n):\n",
        "  frase = \"\"\n",
        "  new_frase= \"\"\n",
        "  new_lista = []\n",
        "  frase = input(\"Inserisci la frase: \")\n",
        "  lista.append(frase)\n",
        "  new_frase = frase.replace(parola_sotituire, parola_sostituta)\n",
        "  print(new_frase)\n",
        "  new_lista.append(new_frase)\n",
        "\n",
        "print(lista)\n",
        "print(new_lista)"
      ]
    },
    {
      "cell_type": "markdown",
      "id": "4ff3f470-4a7b-4477-bfa6-031cb6ca2151",
      "metadata": {
        "id": "4ff3f470-4a7b-4477-bfa6-031cb6ca2151"
      },
      "source": [
        "## Esercizio 6:\n",
        "\n",
        "Scrivi un programma in python che chieda all'utente di inserire una lista di N numeri interi. Trova il numero massimo e il numero minimo nella lista **(senza usare il metodo max() e il metodo min())** e calcola la loro differenza, stampa il\n",
        "risultato."
      ]
    },
    {
      "cell_type": "code",
      "execution_count": null,
      "id": "0e9c10de-ad33-4f5e-ad8a-e07b35e865ee",
      "metadata": {
        "id": "0e9c10de-ad33-4f5e-ad8a-e07b35e865ee",
        "colab": {
          "base_uri": "https://localhost:8080/"
        },
        "outputId": "ce253248-61b2-4587-85bf-ca0f07348e8f"
      },
      "outputs": [
        {
          "output_type": "stream",
          "name": "stdout",
          "text": [
            "Insersci il nuemro di elementi da inserire: 4\n",
            "Inserisci il numero intero: 1\n",
            "Inserisci il numero intero: 3\n",
            "Inserisci il numero intero: 5\n",
            "Inserisci il numero intero: 7\n",
            "7\n",
            "1\n",
            "1\n",
            "1\n",
            "1\n",
            "Differenza tra numero max e numero min: 6\n"
          ]
        }
      ],
      "source": [
        "n = int(input(\"Insersci il nuemro di elementi da inserire: \"))\n",
        "lista = []\n",
        "for _ in range(n):\n",
        "  x = int(input(\"Inserisci il numero intero: \"))\n",
        "  lista.append(x)\n",
        "\n",
        "numero_max = 0\n",
        "numero_min = lista[0]\n",
        "\n",
        "for i in range(len(lista)):\n",
        "  if lista[i]> numero_max:\n",
        "    numero_max = lista[i]\n",
        "print(numero_max)\n",
        "for i in range(len(lista)):\n",
        "  if numero_min >  lista[i]:\n",
        "    numero_min = lista[i]\n",
        "\n",
        "print(numero_min)\n",
        "print(\"Differenza tra numero max e numero min:\", numero_max - numero_min)\n"
      ]
    },
    {
      "cell_type": "markdown",
      "id": "22a5e659-b0af-445d-a012-bdbed34a69e6",
      "metadata": {
        "id": "22a5e659-b0af-445d-a012-bdbed34a69e6"
      },
      "source": [
        "## Esercizio 7:\n",
        "\n",
        "Scrivi un programma che chieda all'utente di inserire due numeri interi, il primo sarà il numero da elevare e il secondo l'esponente. Calcola e stampa la potenza."
      ]
    },
    {
      "cell_type": "code",
      "execution_count": 3,
      "id": "60325bfd-783e-4648-b6d1-051e7c6e36d7",
      "metadata": {
        "id": "60325bfd-783e-4648-b6d1-051e7c6e36d7",
        "colab": {
          "base_uri": "https://localhost:8080/"
        },
        "outputId": "e8b02843-5f1a-44e4-a365-bb965c57b0de"
      },
      "outputs": [
        {
          "output_type": "stream",
          "name": "stdout",
          "text": [
            "Inserisci il numero da elevare: 5\n",
            "Inserisci la potenza: 3\n",
            "5 elevato a 3 fa:  125\n"
          ]
        }
      ],
      "source": [
        "numero_da_elevare = int(input(\"Inserisci il numero da elevare: \"))\n",
        "numero_potenza = int(input(\"Inserisci la potenza: \"))\n",
        "print(numero_da_elevare, \"elevato a\", numero_potenza, \"fa: \" ,numero_da_elevare ** numero_potenza)"
      ]
    },
    {
      "cell_type": "markdown",
      "id": "8b200aed-4e32-4de9-ad10-cdede22fb122",
      "metadata": {
        "id": "8b200aed-4e32-4de9-ad10-cdede22fb122"
      },
      "source": [
        "## Esercizio 8:\n",
        "\n",
        "**Crea la consegna e la soluzione** di un esercizio in cui bisogna usare il costrutto elif, l'input utente e il ciclo while.  \n",
        "**Commenta il codice spiegando cosa fa**\n"
      ]
    },
    {
      "cell_type": "code",
      "execution_count": 4,
      "id": "07112eaa-38ad-422a-9941-97abeead969c",
      "metadata": {
        "id": "07112eaa-38ad-422a-9941-97abeead969c",
        "colab": {
          "base_uri": "https://localhost:8080/"
        },
        "outputId": "7d280037-f612-448a-d39b-cf735f7e72b6"
      },
      "outputs": [
        {
          "name": "stdout",
          "output_type": "stream",
          "text": [
            "inserisce un numero compreso tra 0 e 3. se inserisce zero termina il programma: 2\n",
            "Hai selezionato Pokemon\n",
            "inserisce un numero compreso tra 0 e 3. se inserisce zero termina il programma: 1\n",
            "Hai selezionato Slug Terra\n",
            "inserisce un numero compreso tra 0 e 3. se inserisce zero termina il programma: 3\n",
            "Hai selezionato Yu-Gi-Oh Zexal\n",
            "inserisce un numero compreso tra 0 e 3. se inserisce zero termina il programma: 0\n"
          ]
        }
      ],
      "source": [
        "#Crea un programma python dove l'utente inserisce un numero compreso tra 0 e 3. se inserisce zero termina il programma, con gli altri stampa nomi di cartoni animati\n",
        "while True:\n",
        "  numero = int(input(\"inserisce un numero compreso tra 0 e 3. se inserisce zero termina il programma: \"))\n",
        "  if numero == 0:\n",
        "    break\n",
        "  elif numero == 1:\n",
        "    print(\"Hai selezionato Slug Terra\" )\n",
        "  elif numero == 2:\n",
        "     print(\"Hai selezionato Pokemon\" )\n",
        "  elif numero == 3:\n",
        "     print(\"Hai selezionato Yu-Gi-Oh Zexal\" )\n",
        "  else:\n",
        "     print(\"Inserisci di nuovo il numero, sei stato poco chiaro\" )\n"
      ]
    }
  ],
  "metadata": {
    "kernelspec": {
      "display_name": "Python 3 (ipykernel)",
      "language": "python",
      "name": "python3"
    },
    "language_info": {
      "codemirror_mode": {
        "name": "ipython",
        "version": 3
      },
      "file_extension": ".py",
      "mimetype": "text/x-python",
      "name": "python",
      "nbconvert_exporter": "python",
      "pygments_lexer": "ipython3",
      "version": "3.11.0"
    },
    "colab": {
      "provenance": []
    }
  },
  "nbformat": 4,
  "nbformat_minor": 5
}