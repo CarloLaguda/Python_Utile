{
  "cells": [
    {
      "cell_type": "markdown",
      "metadata": {
        "id": "view-in-github",
        "colab_type": "text"
      },
      "source": [
        "<a href=\"https://colab.research.google.com/github/CarloLaguda/Python_Utile/blob/main/VerificaCollDati.ipynb\" target=\"_parent\"><img src=\"https://colab.research.google.com/assets/colab-badge.svg\" alt=\"Open In Colab\"/></a>"
      ]
    },
    {
      "cell_type": "markdown",
      "id": "3244b5ea-df7f-4b8d-bf46-73b6230ad78a",
      "metadata": {
        "id": "3244b5ea-df7f-4b8d-bf46-73b6230ad78a"
      },
      "source": [
        "## Verifica Collezioni dati\n",
        "**Consegnare il notebook rinominandolo CognomeNome.ipynb**"
      ]
    },
    {
      "cell_type": "markdown",
      "id": "e5d57cb2-a146-4534-9745-352fc0d00c8c",
      "metadata": {
        "id": "e5d57cb2-a146-4534-9745-352fc0d00c8c"
      },
      "source": [
        "#### Es1\n",
        "##### Scrivi un programma in python che faccia caricare all'utente una tupla di N interi multipli di 7"
      ]
    },
    {
      "cell_type": "code",
      "execution_count": 2,
      "id": "654c1e11-0a66-4c82-b4a1-8bfed5171172",
      "metadata": {
        "id": "654c1e11-0a66-4c82-b4a1-8bfed5171172",
        "outputId": "f64aecdd-08e3-4b1f-f17b-0e09f28982f3",
        "colab": {
          "base_uri": "https://localhost:8080/"
        }
      },
      "outputs": [
        {
          "output_type": "stream",
          "name": "stdout",
          "text": [
            "Inserisci il numero di multipli che vuoi inseirire: 3\n",
            "Inserisci il numero divisibile per 7: 35\n",
            "Inserisci il numero divisibile per 7: 28\n",
            "Inserisci il numero divisibile per 7: 22\n",
            "Il numero non è divisibile per 7\n",
            "Inserisci il numero divisibile per 7: 21\n",
            "(35, 28, 21)\n"
          ]
        }
      ],
      "source": [
        "n = int(input(\"Inserisci il numero di multipli che vuoi inseirire: \"))\n",
        "lista = []\n",
        "i = 0\n",
        "while True:\n",
        "  x = int(input(\"Inserisci il numero divisibile per 7: \"))\n",
        "  if x%7 == 0:\n",
        "    i += 1\n",
        "    lista.append(x)\n",
        "  else:\n",
        "    print(\"Il numero non è divisibile per 7\")\n",
        "\n",
        "  if n == i:\n",
        "    break\n",
        "tupla = tuple(lista)\n",
        "print(tupla)"
      ]
    },
    {
      "cell_type": "markdown",
      "id": "fbad1ad2-30a3-4d93-85ee-a34b699822cb",
      "metadata": {
        "id": "fbad1ad2-30a3-4d93-85ee-a34b699822cb"
      },
      "source": [
        "#### Es2\n",
        "##### Scrivi un programma in python che faccia caricare all'utente due set di N interi e ne calcoli l'unione, l'intersezione e la differenza"
      ]
    },
    {
      "cell_type": "code",
      "execution_count": 4,
      "id": "5e03b41d-032e-47f1-9d6b-2619651309f6",
      "metadata": {
        "id": "5e03b41d-032e-47f1-9d6b-2619651309f6",
        "outputId": "44d29546-b5d7-48af-b191-67f86d525e4b",
        "colab": {
          "base_uri": "https://localhost:8080/"
        }
      },
      "outputs": [
        {
          "output_type": "stream",
          "name": "stdout",
          "text": [
            "Inserisci il numero di elementi da insierire nei set: 3\n",
            "Inserisci il valoire da inserire nel set1: 1\n",
            "Inserisci il valoire da inserire nel set1: 2\n",
            "Inserisci il valoire da inserire nel set1: 3\n",
            "Inserisci il valoire da inserire nel set2: 3\n",
            "Inserisci il valoire da inserire nel set2: 4\n",
            "Inserisci il valoire da inserire nel set2: 5\n",
            "Unione {1, 2, 3, 4, 5}\n",
            "Intersezione {3}\n",
            "Differenza {1, 2, 4, 5}\n"
          ]
        }
      ],
      "source": [
        "n = int(input(\"Inserisci il numero di elementi da insierire nei set: \"))\n",
        "lista1 = []\n",
        "lista2 = []\n",
        "\n",
        "for i in range(n):\n",
        "  x = int(input(\"Inserisci il valoire da inserire nel set1: \"))\n",
        "  lista1.append(x)\n",
        "set1 = set(lista1)\n",
        "for i in range(n):\n",
        "  x = int(input(\"Inserisci il valoire da inserire nel set2: \"))\n",
        "  lista2.append(x)\n",
        "set2 = set(lista2)\n",
        "\n",
        "set_unione = set1.union(set2)\n",
        "set_inter = set1.intersection(set2)\n",
        "set_diff= set1.symmetric_difference(set2)\n",
        "print(\"Unione\", set_unione)\n",
        "print(\"Intersezione\", set_inter)\n",
        "print(\"Differenza\",set_diff )\n"
      ]
    },
    {
      "cell_type": "markdown",
      "id": "3b12f251-40b7-4568-9d31-b163c4539d23",
      "metadata": {
        "id": "3b12f251-40b7-4568-9d31-b163c4539d23"
      },
      "source": [
        "#### Es3\n",
        "##### Scrivi in programma un python che faccia caricare all'utente una lista di N stringhe, si stampi la moltiplicazione della lunghezza di ogni stringa nella lista"
      ]
    },
    {
      "cell_type": "code",
      "execution_count": 5,
      "id": "00b83d3b-2db1-4fe7-835b-e24ab3b36e9e",
      "metadata": {
        "id": "00b83d3b-2db1-4fe7-835b-e24ab3b36e9e",
        "outputId": "8e0590b6-90fc-494b-a1d9-2652431a8b82",
        "colab": {
          "base_uri": "https://localhost:8080/"
        }
      },
      "outputs": [
        {
          "output_type": "stream",
          "name": "stdout",
          "text": [
            "Inserisci il numero di di stringhe da inserire: 3\n",
            "Inserisci la stringa: ae\n",
            "Inserisci la stringa: ae\n",
            "Inserisci la stringa: ae\n",
            "8\n"
          ]
        }
      ],
      "source": [
        "n = int(input(\"Inserisci il numero di di stringhe da inserire: \"))\n",
        "lista = []\n",
        "moltiplicazione = 1\n",
        "for i in range(n):\n",
        "  x = input(\"Inserisci la stringa: \")\n",
        "  lista.append(x)\n",
        "  moltiplicazione *= len(x)\n",
        "print(moltiplicazione)"
      ]
    },
    {
      "cell_type": "markdown",
      "id": "5a56c8f0-2192-4340-a90d-1ed9b4926804",
      "metadata": {
        "id": "5a56c8f0-2192-4340-a90d-1ed9b4926804"
      },
      "source": [
        "#### Es4\n",
        "##### Scrivi un programma in python che inizializzi un dizionario e faccia inserire all'utente N coppie chiavi-valore, si stampi il dizionario"
      ]
    },
    {
      "cell_type": "code",
      "execution_count": 7,
      "id": "3763ca9f-f456-40b9-95bf-fefbc1075fd0",
      "metadata": {
        "id": "3763ca9f-f456-40b9-95bf-fefbc1075fd0",
        "outputId": "594ef634-3b27-4113-e254-8fec7c7c222e",
        "colab": {
          "base_uri": "https://localhost:8080/"
        }
      },
      "outputs": [
        {
          "output_type": "stream",
          "name": "stdout",
          "text": [
            "Inserisci il numero di coppie chiavi valore che vuoi mettere nel dizionario: 2\n",
            "Inserisci la chiave: aaa\n",
            "Inserisci il valore: bbbb\n",
            "Inserisci la chiave: cccc\n",
            "Inserisci il valore: ddd\n",
            "{'aaa': 'bbbb', 'cccc': 'ddd'}\n"
          ]
        }
      ],
      "source": [
        "dizionario = {}\n",
        "n = int(input(\"Inserisci il numero di coppie chiavi valore che vuoi mettere nel dizionario: \"))\n",
        "\n",
        "for i in range(n):\n",
        "  chiave = input(\"Inserisci la chiave: \")\n",
        "  dizionario[chiave] = input(\"Inserisci il valore: \")\n",
        "print(dùizionario)"
      ]
    },
    {
      "cell_type": "markdown",
      "id": "e58b26ae-3a23-4f30-a20b-79130416c90e",
      "metadata": {
        "id": "e58b26ae-3a23-4f30-a20b-79130416c90e"
      },
      "source": [
        "#### Es5\n",
        "##### Scrivi un programma in python che dato il seguente dizionario se l'utente:  \n",
        "##### -Inserisce 1 si aggiunge una coppia chiave-valore scelta dall'utente  \n",
        "##### -Inserisce 2 si elimina una coppia chiave-valore scelta dall'utente (controllando che la chiave esiste)  \n",
        "##### -Inserisce qualsiasi altro numero il programma termina"
      ]
    },
    {
      "cell_type": "code",
      "execution_count": 10,
      "id": "72a29ad5-09a9-4975-b46a-ce8e171c60ef",
      "metadata": {
        "id": "72a29ad5-09a9-4975-b46a-ce8e171c60ef",
        "outputId": "b6905c20-7fe4-45b3-b67a-857e55f32ecc",
        "colab": {
          "base_uri": "https://localhost:8080/"
        }
      },
      "outputs": [
        {
          "name": "stdout",
          "output_type": "stream",
          "text": [
            "1. Aggiungi coppia chiave-valore\n",
            "2. Elimina coppia chiave-valore\n",
            "Qualsiasi altro numero termina il programma\n",
            "La tua scelta: 1\n",
            "Inserisci la chiave: anno\n",
            "Inserisci il valore2007\n",
            "1. Aggiungi coppia chiave-valore\n",
            "2. Elimina coppia chiave-valore\n",
            "Qualsiasi altro numero termina il programma\n",
            "La tua scelta: 2\n",
            "dict_keys(['nome', 'cognome', 'età', 'classe', 'anno'])\n",
            "Inserisci la chiave da eliminare: anno\n",
            "1. Aggiungi coppia chiave-valore\n",
            "2. Elimina coppia chiave-valore\n",
            "Qualsiasi altro numero termina il programma\n",
            "La tua scelta: 34\n"
          ]
        }
      ],
      "source": [
        "studente = {\n",
        "    \"nome\": \"Mario\",\n",
        "    \"cognome\": \"Rossi\",\n",
        "    \"età\": 15,\n",
        "    \"classe\": \"3F\"\n",
        "}\n",
        "\n",
        "def add_couple():\n",
        "  chiave = input(\"Inserisci la chiave: \")\n",
        "  studente[chiave] = input(\"Inserisci il valore\")\n",
        "\n",
        "def remove_couple():\n",
        "  print(studente.keys())\n",
        "  chiave_rimuovere = input(\"Inserisci la chiave da eliminare: \")\n",
        "  if chiave_rimuovere in studente.keys():\n",
        "    studente.pop(chiave_rimuovere)\n",
        "while True:\n",
        "  print(\"1. Aggiungi coppia chiave-valore\")\n",
        "  print(\"2. Elimina coppia chiave-valore\")\n",
        "  print(\"Qualsiasi altro numero termina il programma\")\n",
        "\n",
        "  scelta = int(input(\"La tua scelta: \"))\n",
        "\n",
        "  if scelta == 1:\n",
        "    add_couple()\n",
        "  elif scelta == 2:\n",
        "    remove_couple()\n",
        "  else:\n",
        "    break"
      ]
    },
    {
      "cell_type": "markdown",
      "id": "794e105a-c236-48b9-b8a4-9ecef7fb5def",
      "metadata": {
        "id": "794e105a-c236-48b9-b8a4-9ecef7fb5def"
      },
      "source": [
        "#### Es6\n",
        "##### Scrivi un programma in python che dato il seguente dizionario annidato aggiunga una coppia chiave-valore inserita dall'utente"
      ]
    },
    {
      "cell_type": "code",
      "execution_count": 25,
      "id": "181c4576-a267-44fd-acae-89a7438ea6d4",
      "metadata": {
        "id": "181c4576-a267-44fd-acae-89a7438ea6d4",
        "outputId": "a8ec4a5a-fb5e-4b9d-de96-e78ff93287b7",
        "colab": {
          "base_uri": "https://localhost:8080/"
        }
      },
      "outputs": [
        {
          "output_type": "stream",
          "name": "stdout",
          "text": [
            "Inserisci la chiave secondaria: nome\n",
            "Inserisci il valore: carlo\n",
            "{1: {'nome': 'Mario', 'età': 18}, 2: {'nome': 'Luigi', 'età': 17}, 3: {'nome': 'carlo'}}\n"
          ]
        }
      ],
      "source": [
        "registro = {\n",
        "    1 : {\"nome\": \"Mario\", \"età\": 18},\n",
        "    2 : {\"nome\": \"Luigi\", \"età\": 17}\n",
        "}\n",
        "nuova_chiave = 1\n",
        "\n",
        "for chiave in registro.keys():\n",
        "   nuova_chiave += 1\n",
        "\n",
        "secondo_dict = {}\n",
        "seconda_chiave = input(\"Inserisci la chiave secondaria: \")\n",
        "secondo_dict[seconda_chiave] = input(\"Inserisci il valore: \")\n",
        "registro[nuova_chiave]= secondo_dict\n",
        "print(registro)"
      ]
    },
    {
      "cell_type": "markdown",
      "id": "273e16c5-6f5a-4ea1-8a3f-5ff95cda0c78",
      "metadata": {
        "id": "273e16c5-6f5a-4ea1-8a3f-5ff95cda0c78"
      },
      "source": [
        "#### Es7\n",
        "##### Scrivi un programma in python che dato il seguente dizionario annidato elimini una coppia-chiave valore del sottodizionario, si controlli anche se esista la chiave da eliminare"
      ]
    },
    {
      "cell_type": "code",
      "execution_count": 26,
      "id": "bf5790a1-0cc2-40bf-b37d-37678a1b42b7",
      "metadata": {
        "id": "bf5790a1-0cc2-40bf-b37d-37678a1b42b7",
        "outputId": "63b0a16a-76b5-4d58-eee0-daf3fb23b982",
        "colab": {
          "base_uri": "https://localhost:8080/",
          "height": 356
        }
      },
      "outputs": [
        {
          "output_type": "stream",
          "name": "stdout",
          "text": [
            "{1: {'nome': 'Mario', 'età': 18, 'voto': 6}, 2: {'nome': 'Luigi', 'età': 17, 'voto': 5}, 3: {'nome': 'Giulia', 'età': 18, 'voto': 8}, 4: {'nome': 'Francesca', 'età': 18, 'voto': 4}, 5: {'nome': 'Marco', 'età': 18, 'voto': 7}}\n"
          ]
        },
        {
          "output_type": "error",
          "ename": "KeyboardInterrupt",
          "evalue": "Interrupted by user",
          "traceback": [
            "\u001b[0;31m---------------------------------------------------------------------------\u001b[0m",
            "\u001b[0;31mKeyboardInterrupt\u001b[0m                         Traceback (most recent call last)",
            "\u001b[0;32m<ipython-input-26-980ea1b02a7a>\u001b[0m in \u001b[0;36m<cell line: 0>\u001b[0;34m()\u001b[0m\n\u001b[1;32m     10\u001b[0m \u001b[0;34m\u001b[0m\u001b[0m\n\u001b[1;32m     11\u001b[0m \u001b[0;32mfor\u001b[0m \u001b[0mchiave\u001b[0m \u001b[0;32min\u001b[0m \u001b[0mclasse\u001b[0m\u001b[0;34m:\u001b[0m\u001b[0;34m\u001b[0m\u001b[0;34m\u001b[0m\u001b[0m\n\u001b[0;32m---> 12\u001b[0;31m     \u001b[0mclasse\u001b[0m\u001b[0;34m[\u001b[0m\u001b[0mchiave\u001b[0m\u001b[0;34m]\u001b[0m\u001b[0;34m.\u001b[0m\u001b[0mpop\u001b[0m\u001b[0;34m(\u001b[0m\u001b[0minput\u001b[0m\u001b[0;34m(\u001b[0m\u001b[0;34m\"Inserisci la coppia chiave valore da eliminare: \"\u001b[0m\u001b[0;34m)\u001b[0m\u001b[0;34m)\u001b[0m\u001b[0;34m\u001b[0m\u001b[0;34m\u001b[0m\u001b[0m\n\u001b[0m\u001b[1;32m     13\u001b[0m \u001b[0mprint\u001b[0m\u001b[0;34m(\u001b[0m\u001b[0mclasse\u001b[0m\u001b[0;34m)\u001b[0m\u001b[0;34m\u001b[0m\u001b[0;34m\u001b[0m\u001b[0m\n",
            "\u001b[0;32m/usr/local/lib/python3.11/dist-packages/ipykernel/kernelbase.py\u001b[0m in \u001b[0;36mraw_input\u001b[0;34m(self, prompt)\u001b[0m\n\u001b[1;32m   1175\u001b[0m                 \u001b[0;34m\"raw_input was called, but this frontend does not support input requests.\"\u001b[0m\u001b[0;34m\u001b[0m\u001b[0;34m\u001b[0m\u001b[0m\n\u001b[1;32m   1176\u001b[0m             )\n\u001b[0;32m-> 1177\u001b[0;31m         return self._input_request(\n\u001b[0m\u001b[1;32m   1178\u001b[0m             \u001b[0mstr\u001b[0m\u001b[0;34m(\u001b[0m\u001b[0mprompt\u001b[0m\u001b[0;34m)\u001b[0m\u001b[0;34m,\u001b[0m\u001b[0;34m\u001b[0m\u001b[0;34m\u001b[0m\u001b[0m\n\u001b[1;32m   1179\u001b[0m             \u001b[0mself\u001b[0m\u001b[0;34m.\u001b[0m\u001b[0m_parent_ident\u001b[0m\u001b[0;34m[\u001b[0m\u001b[0;34m\"shell\"\u001b[0m\u001b[0;34m]\u001b[0m\u001b[0;34m,\u001b[0m\u001b[0;34m\u001b[0m\u001b[0;34m\u001b[0m\u001b[0m\n",
            "\u001b[0;32m/usr/local/lib/python3.11/dist-packages/ipykernel/kernelbase.py\u001b[0m in \u001b[0;36m_input_request\u001b[0;34m(self, prompt, ident, parent, password)\u001b[0m\n\u001b[1;32m   1217\u001b[0m             \u001b[0;32mexcept\u001b[0m \u001b[0mKeyboardInterrupt\u001b[0m\u001b[0;34m:\u001b[0m\u001b[0;34m\u001b[0m\u001b[0;34m\u001b[0m\u001b[0m\n\u001b[1;32m   1218\u001b[0m                 \u001b[0;31m# re-raise KeyboardInterrupt, to truncate traceback\u001b[0m\u001b[0;34m\u001b[0m\u001b[0;34m\u001b[0m\u001b[0m\n\u001b[0;32m-> 1219\u001b[0;31m                 \u001b[0;32mraise\u001b[0m \u001b[0mKeyboardInterrupt\u001b[0m\u001b[0;34m(\u001b[0m\u001b[0;34m\"Interrupted by user\"\u001b[0m\u001b[0;34m)\u001b[0m \u001b[0;32mfrom\u001b[0m \u001b[0;32mNone\u001b[0m\u001b[0;34m\u001b[0m\u001b[0;34m\u001b[0m\u001b[0m\n\u001b[0m\u001b[1;32m   1220\u001b[0m             \u001b[0;32mexcept\u001b[0m \u001b[0mException\u001b[0m\u001b[0;34m:\u001b[0m\u001b[0;34m\u001b[0m\u001b[0;34m\u001b[0m\u001b[0m\n\u001b[1;32m   1221\u001b[0m                 \u001b[0mself\u001b[0m\u001b[0;34m.\u001b[0m\u001b[0mlog\u001b[0m\u001b[0;34m.\u001b[0m\u001b[0mwarning\u001b[0m\u001b[0;34m(\u001b[0m\u001b[0;34m\"Invalid Message:\"\u001b[0m\u001b[0;34m,\u001b[0m \u001b[0mexc_info\u001b[0m\u001b[0;34m=\u001b[0m\u001b[0;32mTrue\u001b[0m\u001b[0;34m)\u001b[0m\u001b[0;34m\u001b[0m\u001b[0;34m\u001b[0m\u001b[0m\n",
            "\u001b[0;31mKeyboardInterrupt\u001b[0m: Interrupted by user"
          ]
        }
      ],
      "source": [
        "classe = {\n",
        "    1 : {\"nome\": \"Mario\", \"età\": 18, \"voto\": 6},\n",
        "    2 : {\"nome\": \"Luigi\", \"età\": 17, \"voto\": 5},\n",
        "    3 : {\"nome\": \"Giulia\", \"età\": 18, \"voto\": 8},\n",
        "    4 : {\"nome\": \"Francesca\", \"età\": 18, \"voto\": 4},\n",
        "    5 : {\"nome\": \"Marco\", \"età\": 18, \"voto\": 7},\n",
        "}\n",
        "\n",
        "print(classe)\n",
        "\n",
        "for chiave in classe:\n",
        "    classe[chiave].pop(input(\"Inserisci la coppia chiave valore da eliminare: \"))\n",
        "print(classe)"
      ]
    },
    {
      "cell_type": "markdown",
      "id": "3afb608f-3332-4a24-8de3-4dc3099578a9",
      "metadata": {
        "id": "3afb608f-3332-4a24-8de3-4dc3099578a9"
      },
      "source": [
        "## Es8\n",
        "##### Scrivi un programma in python che dato il seguente dizionario annidato calcoli la media matematica dei voti della classe"
      ]
    },
    {
      "cell_type": "code",
      "execution_count": 29,
      "id": "1b74913e-9c75-4a3d-ae98-b30295d79421",
      "metadata": {
        "id": "1b74913e-9c75-4a3d-ae98-b30295d79421",
        "outputId": "c5145d3b-9c2c-43f6-923e-46ca168b9038",
        "colab": {
          "base_uri": "https://localhost:8080/"
        }
      },
      "outputs": [
        {
          "output_type": "stream",
          "name": "stdout",
          "text": [
            "Voto medio: 6.0\n"
          ]
        }
      ],
      "source": [
        "classe = {\n",
        "    1 : {\"nome\": \"Mario\", \"età\": 18, \"voto\": 6},\n",
        "    2 : {\"nome\": \"Luigi\", \"età\": 17, \"voto\": 5},\n",
        "    3 : {\"nome\": \"Giulia\", \"età\": 18, \"voto\": 8},\n",
        "    4 : {\"nome\": \"Francesca\", \"età\": 18, \"voto\": 4},\n",
        "    5 : {\"nome\": \"Marco\", \"età\": 18, \"voto\": 7},\n",
        "}\n",
        "voto_medio = 0\n",
        "somma = 0\n",
        "lista = []\n",
        "for chiave in classe:\n",
        "  valore = classe[chiave][\"voto\"]\n",
        "  lista.append(valore)\n",
        "\n",
        "for i in range(len(lista)):\n",
        "  somma += lista[i]\n",
        "\n",
        "voto_medio = somma/len(lista)\n",
        "print(\"Voto medio:\", voto_medio)"
      ]
    }
  ],
  "metadata": {
    "kernelspec": {
      "display_name": "Python 3 (ipykernel)",
      "language": "python",
      "name": "python3"
    },
    "language_info": {
      "codemirror_mode": {
        "name": "ipython",
        "version": 3
      },
      "file_extension": ".py",
      "mimetype": "text/x-python",
      "name": "python",
      "nbconvert_exporter": "python",
      "pygments_lexer": "ipython3",
      "version": "3.11.0"
    },
    "colab": {
      "provenance": [],
      "include_colab_link": true
    }
  },
  "nbformat": 4,
  "nbformat_minor": 5
}