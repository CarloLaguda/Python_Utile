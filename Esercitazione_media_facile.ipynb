{
  "cells": [
    {
      "cell_type": "markdown",
      "id": "597db52b-8b8d-4955-9374-26599361d6f1",
      "metadata": {
        "id": "597db52b-8b8d-4955-9374-26599361d6f1"
      },
      "source": [
        "## Esercitazione verifica\n",
        "Consegnare il notebook su classroom rinominato CognomeNome.ipynb"
      ]
    },
    {
      "cell_type": "markdown",
      "id": "b595fafa-52f2-4e13-b43c-e4354df3a298",
      "metadata": {
        "id": "b595fafa-52f2-4e13-b43c-e4354df3a298"
      },
      "source": [
        "## Esercizio 1:\n",
        "Chiedi all'utente di inserire numeri interi fino a quando la loro somma è maggiore di 100, stampa la somma."
      ]
    },
    {
      "cell_type": "code",
      "execution_count": 1,
      "id": "a3524011-737d-4db9-8368-f3db591b737b",
      "metadata": {
        "id": "a3524011-737d-4db9-8368-f3db591b737b",
        "outputId": "61264046-b5ee-4a99-b292-44ea5bc4f56b",
        "colab": {
          "base_uri": "https://localhost:8080/"
        }
      },
      "outputs": [
        {
          "output_type": "stream",
          "name": "stdout",
          "text": [
            "Inserisci un numero intero: 34\n",
            "Inserisci un numero intero: 54\n",
            "Inserisci un numero intero: 1\n",
            "Inserisci un numero intero: 1\n",
            "Inserisci un numero intero: 1\n",
            "Inserisci un numero intero: 43\n",
            "134\n"
          ]
        }
      ],
      "source": [
        "numero = 0\n",
        "somma = 0\n",
        "while somma <100:\n",
        "  numero = int(input(\"Inserisci un numero intero: \"))\n",
        "  somma += numero\n",
        "print(somma)"
      ]
    },
    {
      "cell_type": "markdown",
      "id": "cc7ff8fd-c24c-457b-ae48-a7254c37e19b",
      "metadata": {
        "id": "cc7ff8fd-c24c-457b-ae48-a7254c37e19b"
      },
      "source": [
        "## Esercizio 2:\n",
        "\n",
        "Chiedi all'utente di inserire un numero intero N e stampa la N-esima posizione della sequenza di fibonacci.\n",
        "La sequenza di Fibonacci è una serie di numeri interi positivi in cui ogni numero è la somma dei due precedenti."
      ]
    },
    {
      "cell_type": "code",
      "execution_count": 10,
      "id": "63038c9d-2d3f-4e96-aadb-38512a7ccb59",
      "metadata": {
        "id": "63038c9d-2d3f-4e96-aadb-38512a7ccb59",
        "outputId": "b488f1ce-3f30-40aa-c6c0-740778959e36",
        "colab": {
          "base_uri": "https://localhost:8080/"
        }
      },
      "outputs": [
        {
          "output_type": "stream",
          "name": "stdout",
          "text": [
            "Inserisci il numero della sequenza di fibonacci da visualizzare: 6\n",
            "1\n",
            "1\n",
            "2\n",
            "3\n",
            "5\n",
            "8\n",
            "13\n",
            "21\n",
            "21\n"
          ]
        }
      ],
      "source": [
        "n = int(input(\"Inserisci il numero della sequenza di fibonacci da visualizzare: \"))\n",
        "a = 1\n",
        "b = 1\n",
        "somma = 0\n",
        "print(a)\n",
        "print(b)\n",
        "for i in range(n):\n",
        "  somma = a + b\n",
        "  a = b\n",
        "  b = somma\n",
        "print(somma)\n",
        ""
      ]
    },
    {
      "cell_type": "markdown",
      "id": "4f366e87-7404-4263-8b39-ca0bfedc0517",
      "metadata": {
        "id": "4f366e87-7404-4263-8b39-ca0bfedc0517"
      },
      "source": [
        "## Esercizio 3:\n",
        "\n",
        "Chiedi all'utente di inserire una lista di parole lunga N elementi, trova e stampa la parola più lunga nella lista."
      ]
    },
    {
      "cell_type": "code",
      "execution_count": null,
      "id": "9f66f71a-444c-4397-ae76-898cb42ccae5",
      "metadata": {
        "id": "9f66f71a-444c-4397-ae76-898cb42ccae5"
      },
      "outputs": [],
      "source": [
        "n = int(input(\"Inserisci il numero di parole da mettere nella lista: \"))\n",
        "lista = []\n",
        "for _ in range(n):\n",
        "  parola = input()\n",
        "  lista.append(parola)\n",
        "\n",
        "lung_max = len(lista[0])\n",
        "\n",
        "for i in lista:\n",
        "  if len(i)> lung_max:\n",
        "    lung_max = len(i)\n",
        "print(lung_max)"
      ]
    },
    {
      "cell_type": "markdown",
      "id": "d09d0596-d96f-4586-ba2f-e15289cd2b78",
      "metadata": {
        "id": "d09d0596-d96f-4586-ba2f-e15289cd2b78"
      },
      "source": [
        "## Esercizio 4:\n",
        "\n",
        "Chiedi all'utente di inserire due liste di numeri di uguale lunghezza, confrontare gli elementi delle due liste, uno a uno. Stampa una lista che contiene il minimo tra i due elementi in ciascuna posizione."
      ]
    },
    {
      "cell_type": "code",
      "execution_count": 24,
      "id": "78a19389-2882-40c5-8a14-84567657ff08",
      "metadata": {
        "id": "78a19389-2882-40c5-8a14-84567657ff08",
        "outputId": "3e8cb33e-8064-4f07-b8f6-52df6acbf1a1",
        "colab": {
          "base_uri": "https://localhost:8080/"
        }
      },
      "outputs": [
        {
          "output_type": "stream",
          "name": "stdout",
          "text": [
            "Inserisci il numero per la lista1: 4\n",
            "Inserisci il numero per la lista2: 3\n",
            "Inserisci il numero per la lista1: 6\n",
            "Inserisci il numero per la lista2: 8\n",
            "Inserisci il numero per la lista1: 98\n",
            "Inserisci il numero per la lista2: 89\n",
            "[3, 6, 89]\n"
          ]
        }
      ],
      "source": [
        "lista_1 = []\n",
        "lista_2 = []\n",
        "\n",
        "for i in range(3):\n",
        "  numero_1 = int(input(\"Inserisci il numero per la lista1: \"))\n",
        "  numero_2 = int(input(\"Inserisci il numero per la lista2: \"))\n",
        "  lista_1.append(numero_1)\n",
        "  lista_2.append(numero_2)\n",
        "\n",
        "lista_minimi = []\n",
        "\n",
        "for i in range(3):\n",
        "  if lista_1[i]>lista_2[i]:\n",
        "    lista_minimi.append(lista_2[i])\n",
        "  else:\n",
        "    lista_minimi.append(lista_1[i])\n",
        "print(lista_minimi)"
      ]
    },
    {
      "cell_type": "markdown",
      "id": "ec12dce7-92ca-451d-b831-11b4c44549a5",
      "metadata": {
        "id": "ec12dce7-92ca-451d-b831-11b4c44549a5"
      },
      "source": [
        "## Esercizio 5:\n",
        "\n",
        "Chiedi all'utente di inserire una lista di 5 stringhe."
      ]
    },
    {
      "cell_type": "code",
      "execution_count": 17,
      "id": "0b32b5c4-8054-4f4b-b705-ad30d3e98b7e",
      "metadata": {
        "id": "0b32b5c4-8054-4f4b-b705-ad30d3e98b7e",
        "outputId": "2b1b43ed-be03-4135-c303-ed3a4765d2cf",
        "colab": {
          "base_uri": "https://localhost:8080/"
        }
      },
      "outputs": [
        {
          "output_type": "stream",
          "name": "stdout",
          "text": [
            "Inserisci una parola: tete\n",
            "Inserisci una parola: tege\n",
            "Inserisci una parola: shs\n",
            "Inserisci una parola: bajaia\n",
            "Inserisci una parola: aba\n",
            "1 shsshs\n",
            "2 weer\n",
            "3 wwwwwwwwwwwwwwwwww\n",
            "4 agaga\n",
            "5 hshs\n"
          ]
        }
      ],
      "source": [
        "for _ in range(5):\n",
        "  parola = input(\"Inserisci una parola: \")\n",
        "  lista.append(parola)\n",
        "print()\n",
        "for i in range(5):\n",
        "  print(i+1, lista[i])"
      ]
    },
    {
      "cell_type": "markdown",
      "id": "de955b9a-8f4d-48f2-a63a-922f7a29523c",
      "metadata": {
        "id": "de955b9a-8f4d-48f2-a63a-922f7a29523c"
      },
      "source": [
        "## Esercizio 6:\n",
        "\n",
        "Chiedi all'utente di inserire una lista di N numeri interi, stampa il prodotoddo (moltiplicazione) di tutti gli elementi della lista."
      ]
    },
    {
      "cell_type": "code",
      "execution_count": 21,
      "id": "7573abfa-aa96-4f2c-adc4-ab1fa40acc28",
      "metadata": {
        "id": "7573abfa-aa96-4f2c-adc4-ab1fa40acc28",
        "outputId": "efb3a65a-30fb-44b2-d1d1-7f8146f01812",
        "colab": {
          "base_uri": "https://localhost:8080/"
        }
      },
      "outputs": [
        {
          "output_type": "stream",
          "name": "stdout",
          "text": [
            "Inserisci il numero di numeri da inserire: 3\n",
            "Inserisci il numero: 4\n",
            "4\n",
            "Inserisci il numero: 3\n",
            "12\n",
            "Inserisci il numero: 2\n",
            "24\n"
          ]
        }
      ],
      "source": [
        "lista = []\n",
        "n = int(input(\"Inserisci il numero di numeri da inserire: \"))\n",
        "prodotto = 1\n",
        "for i in range(n):\n",
        "  numero = int(input(\"Inserisci il numero: \"))\n",
        "  lista.append(numero)\n",
        "  prodotto *= numero\n",
        "  print(prodotto)\n"
      ]
    },
    {
      "cell_type": "markdown",
      "id": "e0657b93-740c-43b2-8f53-95700adc6322",
      "metadata": {
        "id": "e0657b93-740c-43b2-8f53-95700adc6322"
      },
      "source": [
        "## Esercizio 7:\n",
        "\n",
        "Crea un programma che chieda all'utente di inserire elementi in una lista se preme 1, di visualizzare gli elementi della lista se preme 2 e terminare il programma se preme 0. (usare un while per far ciclare il programma finchè l'utente non preme 0)"
      ]
    },
    {
      "cell_type": "code",
      "execution_count": 26,
      "id": "8fd0cecd-887d-42be-bc21-25651e6040a9",
      "metadata": {
        "id": "8fd0cecd-887d-42be-bc21-25651e6040a9",
        "outputId": "667c2fa3-4de2-4f67-defe-f09f29aac480",
        "colab": {
          "base_uri": "https://localhost:8080/"
        }
      },
      "outputs": [
        {
          "output_type": "stream",
          "name": "stdout",
          "text": [
            "Per aggiugere un elemento della lista digita 1\n",
            "Per visualizzare un elemento della lista digita 2\n",
            "Per terminare il programma digita 0\n",
            "Digita la tua scelta: 2\n",
            "\n",
            "1 . Formaggio\n",
            "\n",
            "2 . Acqua\n",
            "\n",
            "3 . Fazzoletti\n",
            "\n",
            "4 . Yogurt\n",
            "\n",
            "5 . Pasta\n",
            "\n",
            "Per aggiugere un elemento della lista digita 1\n",
            "Per visualizzare un elemento della lista digita 2\n",
            "Per terminare il programma digita 0\n",
            "Digita la tua scelta: 1\n",
            "\n",
            "1 . Formaggio\n",
            "\n",
            "2 . Acqua\n",
            "\n",
            "3 . Fazzoletti\n",
            "\n",
            "4 . Yogurt\n",
            "\n",
            "5 . Pasta\n",
            "\n",
            "inserisci un nuovo elemento: pomodoro\n",
            "Per aggiugere un elemento della lista digita 1\n",
            "Per visualizzare un elemento della lista digita 2\n",
            "Per terminare il programma digita 0\n",
            "Digita la tua scelta: 2\n",
            "\n",
            "1 . Formaggio\n",
            "\n",
            "2 . Acqua\n",
            "\n",
            "3 . Fazzoletti\n",
            "\n",
            "4 . Yogurt\n",
            "\n",
            "5 . Pasta\n",
            "\n",
            "6 . pomodoro\n",
            "\n",
            "Per aggiugere un elemento della lista digita 1\n",
            "Per visualizzare un elemento della lista digita 2\n",
            "Per terminare il programma digita 0\n",
            "Digita la tua scelta: 0\n",
            "\n"
          ]
        }
      ],
      "source": [
        "lista_spesa = [\"Formaggio\", \"Acqua\", \"Fazzoletti\", \"Yogurt\", \"Pasta\"]\n",
        "\n",
        "def aggiungi_elemento():\n",
        "    visualizza_elemento()\n",
        "    nuovo = input(\"inserisci un nuovo elemento: \")\n",
        "    lista_spesa.append(nuovo)\n",
        "\n",
        "\n",
        "def visualizza_elemento():\n",
        "    for i in range(len(lista_spesa)):\n",
        "\n",
        "        print(i+1 , \".\" ,lista_spesa[i])\n",
        "        print(\"\")\n",
        "\n",
        "\n",
        "while True:\n",
        "    print(\"Per aggiugere un elemento della lista digita 1\")\n",
        "    print(\"Per visualizzare un elemento della lista digita 2\")\n",
        "    print(\"Per terminare il programma digita 0\")\n",
        "    scelta = int(input(\"Digita la tua scelta: \"))\n",
        "    print(\"\")\n",
        "\n",
        "    if scelta == 1:\n",
        "        aggiungi_elemento()\n",
        "    elif scelta == 2:\n",
        "        visualizza_elemento()\n",
        "    elif scelta ==0:\n",
        "        break\n",
        "    else:\n",
        "      print(\"Sei stato poco chiaro\")"
      ]
    },
    {
      "cell_type": "markdown",
      "id": "beaa1161-d908-4138-af5d-3df0a9771d40",
      "metadata": {
        "id": "beaa1161-d908-4138-af5d-3df0a9771d40"
      },
      "source": [
        "## Esercizio 8:\n",
        "\n",
        "Inventa un esercizio che usi il costrutto elif"
      ]
    },
    {
      "cell_type": "code",
      "source": [
        "scelta = int(input(\"Scegli il gioco da giocare: 1-TLOU parte 1, 2-THE CREW MOTORFEST, 3-Resident evil 5.\"))\n",
        "if scelta ==1:\n",
        "  print(\"hai scelto TLOU parte 1!\" )\n",
        "elif scelta == 2:\n",
        "  print(\"hai scelto THE CREW MOTORFEST!\" )\n",
        "elif scelta == 3:\n",
        "   print(\"hai scelto Resident evil 5!\")\n",
        "else:\n",
        "   print(\"Non hai inserito un valore valido\")"
      ],
      "metadata": {
        "id": "NmylMcEADuJL"
      },
      "id": "NmylMcEADuJL",
      "execution_count": null,
      "outputs": []
    }
  ],
  "metadata": {
    "kernelspec": {
      "display_name": "Python 3 (ipykernel)",
      "language": "python",
      "name": "python3"
    },
    "language_info": {
      "codemirror_mode": {
        "name": "ipython",
        "version": 3
      },
      "file_extension": ".py",
      "mimetype": "text/x-python",
      "name": "python",
      "nbconvert_exporter": "python",
      "pygments_lexer": "ipython3",
      "version": "3.11.0"
    },
    "colab": {
      "provenance": []
    }
  },
  "nbformat": 4,
  "nbformat_minor": 5
}