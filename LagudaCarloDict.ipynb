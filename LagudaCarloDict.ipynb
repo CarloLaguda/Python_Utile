{
 "cells": [
  {
   "cell_type": "markdown",
   "id": "d78fcde5-e68d-4bdd-b24f-fe0d74747011",
   "metadata": {
    "id": "d78fcde5-e68d-4bdd-b24f-fe0d74747011"
   },
   "source": [
    "# Esercizi dizionari\n",
    "**Consegnare il notebook su classroom rinominato CognomeNome.ipynb**  \n",
    "**La non consegna sarà valutata negativamente**"
   ]
  },
  {
   "cell_type": "markdown",
   "id": "3f39a198-34e9-442a-93e6-9bdb976ff135",
   "metadata": {
    "id": "3f39a198-34e9-442a-93e6-9bdb976ff135"
   },
   "source": [
    "#### Es1  \n",
    "##### Dato il seguente dizionario, visualizzare a schermo le chiavi e i valori separatamente"
   ]
  },
  {
   "cell_type": "code",
   "execution_count": 2,
   "id": "86cced3d-cb13-46b1-ac00-3c60b25ca3c4",
   "metadata": {
    "id": "86cced3d-cb13-46b1-ac00-3c60b25ca3c4",
    "outputId": "7688017d-3b03-4c95-e05e-6e53bbdf5a7e"
   },
   "outputs": [
    {
     "name": "stdout",
     "output_type": "stream",
     "text": [
      "nome\n",
      "cognome\n",
      "età\n",
      "classe\n",
      "---------------------------------\n",
      "Mario\n",
      "Rossi\n",
      "15\n",
      "3F\n"
     ]
    }
   ],
   "source": [
    "studente = {\n",
    "    \"nome\": \"Mario\",\n",
    "    \"cognome\": \"Rossi\",\n",
    "    \"età\": 15,\n",
    "    \"classe\": \"3F\"\n",
    "}\n",
    "\n",
    "for chiavi in studente:\n",
    "    print(chiavi)\n",
    "\n",
    "print(\"---------------------------------\")\n",
    "\n",
    "for valori in studente.values():\n",
    "    print(valori)"
   ]
  },
  {
   "cell_type": "markdown",
   "id": "3e4f0dc4-59fc-4567-9f5c-4d7b27d04b7c",
   "metadata": {
    "id": "3e4f0dc4-59fc-4567-9f5c-4d7b27d04b7c"
   },
   "source": [
    "#### Es2\n",
    "##### Inizializza un dizionario e fai inserire 3 coppie chiavi-valore all'utente, stampa il dizionario"
   ]
  },
  {
   "cell_type": "code",
   "execution_count": 4,
   "id": "2ad8c116-73a4-4666-896d-86bd93d970e6",
   "metadata": {
    "id": "2ad8c116-73a4-4666-896d-86bd93d970e6",
    "outputId": "483650fb-73e8-48ee-fa06-2df3d0ad1870"
   },
   "outputs": [
    {
     "name": "stdin",
     "output_type": "stream",
     "text": [
      "Inserisci la chiave:  nome\n",
      "Inserisci il valore:  carlo\n",
      "Inserisci la chiave:  cognome\n",
      "Inserisci il valore:  laguda\n",
      "Inserisci la chiave:  classe\n",
      "Inserisci il valore:  4f\n"
     ]
    },
    {
     "name": "stdout",
     "output_type": "stream",
     "text": [
      "{'nome': 'carlo', 'cognome': 'laguda', 'classe': '4f'}\n"
     ]
    }
   ],
   "source": [
    "dictt={}\n",
    "\n",
    "for i in range(3):\n",
    "    chiave = input(\"Inserisci la chiave: \")\n",
    "    dictt[chiave] = input(\"Inserisci il valore: \")\n",
    "print(dictt)"
   ]
  },
  {
   "cell_type": "markdown",
   "id": "a6411077-4f07-4020-995a-eb7cb264e2ca",
   "metadata": {
    "id": "a6411077-4f07-4020-995a-eb7cb264e2ca"
   },
   "source": [
    "#### Es3\n",
    "##### Dato il seguente dizionario, fai modificare all'utente un valore a sua scelta data una chiave\n"
   ]
  },
  {
   "cell_type": "code",
   "execution_count": 6,
   "id": "0798dba5-6f3f-4056-b029-1e2192969e89",
   "metadata": {
    "id": "0798dba5-6f3f-4056-b029-1e2192969e89",
    "outputId": "822ce854-8df0-45a0-81f5-2c7c6df46b9e"
   },
   "outputs": [
    {
     "name": "stdout",
     "output_type": "stream",
     "text": [
      "dict_keys(['nome', 'cognome', 'età', 'classe'])\n"
     ]
    },
    {
     "name": "stdin",
     "output_type": "stream",
     "text": [
      "Inserisci la chiave che vuoi modificare:  cognome\n",
      "Inserisci il nuovo valore:  verdi\n"
     ]
    },
    {
     "name": "stdout",
     "output_type": "stream",
     "text": [
      "{'nome': 'Mario', 'cognome': 'verdi', 'età': 15, 'classe': '3F'}\n"
     ]
    }
   ],
   "source": [
    "studente = {\n",
    "    \"nome\": \"Mario\",\n",
    "    \"cognome\": \"Rossi\",\n",
    "    \"età\": 15,\n",
    "    \"classe\": \"3F\"\n",
    "}\n",
    "\n",
    "print(studente.keys())\n",
    "\n",
    "chiave_da_modificare = input(\"Inserisci la chiave che vuoi modificare: \")\n",
    "\n",
    "if chiave_da_modificare in studente.keys():\n",
    "    studente[chiave_da_modificare] = input(\"Inserisci il nuovo valore: \")\n",
    "else:\n",
    "    print(\"Chiave non trovata\")\n",
    "\n",
    "print(studente)"
   ]
  },
  {
   "cell_type": "markdown",
   "id": "773ce895-97f0-4be3-93a8-1bf85996856d",
   "metadata": {
    "id": "773ce895-97f0-4be3-93a8-1bf85996856d"
   },
   "source": [
    "#### Es4\n",
    "##### Dato il seguente dizionario annidato, elimina le coppie chiavi-valore \"nome\""
   ]
  },
  {
   "cell_type": "code",
   "execution_count": 7,
   "id": "fc1d42a6-9bd6-4d05-be32-a0302cc3f4a7",
   "metadata": {
    "id": "fc1d42a6-9bd6-4d05-be32-a0302cc3f4a7",
    "outputId": "6381a8e5-f17a-4531-b767-823402cdd517"
   },
   "outputs": [
    {
     "name": "stdout",
     "output_type": "stream",
     "text": [
      "{'studente1': {'cognome': 'Rossi'}, 'studente2': {'cognome': 'Bianchi'}}\n"
     ]
    }
   ],
   "source": [
    "classe = {\n",
    "    \"studente1\": { \"nome\" : \"Mario\" , \"cognome\" : \"Rossi\" },\n",
    "    \"studente2\": {\"nome\" : \"Luigi\" , \"cognome\" : \"Bianchi\"}\n",
    "}\n",
    "\n",
    "for chiave in classe:\n",
    "    classe[chiave].pop(\"nome\")\n",
    "print(classe)"
   ]
  },
  {
   "cell_type": "markdown",
   "id": "8ada6269-90f4-479e-9f4c-3550294e03d5",
   "metadata": {
    "id": "8ada6269-90f4-479e-9f4c-3550294e03d5"
   },
   "source": [
    "#### Es5\n",
    "##### Dato il seguente dizionario annidato, elimina una coppia chiave-valore scelta dall'utente"
   ]
  },
  {
   "cell_type": "code",
   "execution_count": 10,
   "id": "7affaed3-94ae-4ee9-a584-b22f3b349657",
   "metadata": {
    "id": "7affaed3-94ae-4ee9-a584-b22f3b349657",
    "outputId": "ef62a1df-bb4e-4f6a-e739-8b839f6eb5bf"
   },
   "outputs": [
    {
     "name": "stdout",
     "output_type": "stream",
     "text": [
      "{'studente1': {'nome': 'Mario', 'cognome': 'Rossi'}, 'studente2': {'nome': 'Luigi', 'cognome': 'Bianchi'}}\n"
     ]
    },
    {
     "name": "stdin",
     "output_type": "stream",
     "text": [
      "Inserisci la coppia chiave valore da eliminare:  nome\n",
      "Inserisci la coppia chiave valore da eliminare:  cognome\n"
     ]
    },
    {
     "name": "stdout",
     "output_type": "stream",
     "text": [
      "{'studente1': {'cognome': 'Rossi'}, 'studente2': {'nome': 'Luigi'}}\n"
     ]
    }
   ],
   "source": [
    "classe = {\n",
    "    \"studente1\": { \"nome\" : \"Mario\" , \"cognome\" : \"Rossi\" },\n",
    "    \"studente2\": {\"nome\" : \"Luigi\" , \"cognome\" : \"Bianchi\"}\n",
    "}\n",
    "\n",
    "print(classe)\n",
    "for chiave in classe:\n",
    "    classe[chiave].pop(input(\"Inserisci la coppia chiave valore da eliminare: \")) \n",
    "print(classe)"
   ]
  },
  {
   "cell_type": "markdown",
   "id": "cfe7941c-6401-426a-ab82-90c558f50efd",
   "metadata": {
    "id": "cfe7941c-6401-426a-ab82-90c558f50efd"
   },
   "source": [
    "#### Es6\n",
    "##### Fai caricare all'utente un dizionario annidato di grandezza 3, stampalo"
   ]
  },
  {
   "cell_type": "code",
   "execution_count": 15,
   "id": "1b254143-60d8-41d3-a484-16fcd6fc09c5",
   "metadata": {
    "id": "1b254143-60d8-41d3-a484-16fcd6fc09c5"
   },
   "outputs": [
    {
     "name": "stdin",
     "output_type": "stream",
     "text": [
      "Inserisci le chiavi:  st1\n",
      "Inserisci le chiavi:  st2\n",
      "Inserisci le chiavi:  st3\n",
      "Inserisci la chiave del secondo dizionario:  nome\n",
      "Inserisci il valore:  Carlo\n",
      "Inserisci la chiave del secondo dizionario:  cognome\n",
      "Inserisci il valore:  laguda\n",
      "Inserisci la chiave del secondo dizionario:  classe\n",
      "Inserisci il valore:  4f\n",
      "Inserisci la chiave del secondo dizionario:  nome\n",
      "Inserisci il valore:  simo\n",
      "Inserisci la chiave del secondo dizionario:  cognome\n",
      "Inserisci il valore:  marro\n",
      "Inserisci la chiave del secondo dizionario:  classe 4f\n",
      "Inserisci il valore:  4f\n",
      "Inserisci la chiave del secondo dizionario:  nome\n",
      "Inserisci il valore:  leo\n",
      "Inserisci la chiave del secondo dizionario:  cognome\n",
      "Inserisci il valore:  matta\n",
      "Inserisci la chiave del secondo dizionario:  classe\n",
      "Inserisci il valore:  4f\n"
     ]
    },
    {
     "name": "stdout",
     "output_type": "stream",
     "text": [
      "{'st1': {'nome': 'Carlo', 'cognome': 'laguda', 'classe': '4f'}, 'st2': {'nome': 'simo', 'cognome': 'marro', 'classe 4f': '4f'}, 'st3': {'nome': 'leo', 'cognome': 'matta', 'classe': '4f'}}\n"
     ]
    }
   ],
   "source": [
    "classe = {}\n",
    "\n",
    "\n",
    "    chiave = input(\"Inserisci le chiavi: \")\n",
    "    classe[chiave] = {}\n",
    "\n",
    "for chiave in classe:\n",
    "    print(chiave)\n",
    "    print()\n",
    "    for i in range(3):\n",
    "        chiave_secondaria = input(\"Inserisci la chiave del secondo dizionario: \")\n",
    "        classe[chiave][chiave_secondaria] = input(\"Inserisci il valore: \")\n",
    "print(classe)"
   ]
  },
  {
   "cell_type": "code",
   "execution_count": null,
   "id": "ab9f7011-7491-4570-b976-094aab2eae8a",
   "metadata": {
    "id": "ab9f7011-7491-4570-b976-094aab2eae8a"
   },
   "outputs": [],
   "source": []
  }
 ],
 "metadata": {
  "colab": {
   "provenance": []
  },
  "kernelspec": {
   "display_name": "Python 3 (ipykernel)",
   "language": "python",
   "name": "python3"
  },
  "language_info": {
   "codemirror_mode": {
    "name": "ipython",
    "version": 3
   },
   "file_extension": ".py",
   "mimetype": "text/x-python",
   "name": "python",
   "nbconvert_exporter": "python",
   "pygments_lexer": "ipython3",
   "version": "3.10.7"
  }
 },
 "nbformat": 4,
 "nbformat_minor": 5
}
